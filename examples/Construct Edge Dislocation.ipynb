{
 "cells": [
  {
   "cell_type": "markdown",
   "metadata": {},
   "source": [
    "## Notes \n",
    "\n",
    "Some ideas taken from [here](http://people.virginia.edu/~lz2n/mse6020/notes/D-partial-fcc.pdf) and from [here](http://www.slideshare.net/omaratefradwan/mse501-ch5-radwan).\n",
    "\n",
    "Burgers vector of the lowest energy dislocation is \n",
    "$$\n",
    "    b = \\frac{a}{2} \\langle 110 \\rangle \\qquad \\Rightarrow\\qquad  |b| = \\frac{a}{\\sqrt{2}}\n",
    "$$\n",
    "The next best option is \n",
    "$$\n",
    "    b' = a \\langle 001 \\rangle \\qquad \\Rightarrow \\qquad |b'| = a \n",
    "$$\n",
    "(the latter is rarely observed!) \n",
    "\n",
    "The slip-plane for $b'$ dislocations are $\\{111\\}$ close packed planes stacked in ABCABC arrangement. \n",
    "\n",
    "But of course we can equivalently take $b \\propto 101$ or $b \\propto 011$. \n",
    "\n"
   ]
  },
  {
   "cell_type": "code",
   "execution_count": 2,
   "metadata": {
    "collapsed": false
   },
   "outputs": [
    {
     "data": {
      "text/plain": [
       "plotfcc (generic function with 1 method)"
      ]
     },
     "execution_count": 2,
     "metadata": {},
     "output_type": "execute_result"
    }
   ],
   "source": [
    "using PyPlot\n",
    "using JuLIP\n",
    "using JuLIP.ASE, JuLIP.Potentials, JuLIP.Constraints \n",
    "\n",
    "project12(x, E) = [dot(x, E[1]); dot(x, E[2])]\n",
    "\n",
    "function basis_a12(at)\n",
    "    F = defm(at)    \n",
    "    a1, a2, a3 = F[:,1], F[:,2], F[:,3] \n",
    "    a1 /= vecnorm(a1); a2 /= vecnorm(a2); a3 /= vecnorm(a3)\n",
    "    e1 = a1 \n",
    "    e2 = a2 - dot(a1, a2) * a1; e2 /= vecnorm(e2) \n",
    "    e3 = e1 × e2\n",
    "    return (e1, e2, e3)\n",
    "end \n",
    "\n",
    "function pos2d(at)\n",
    "    X = positions(at) \n",
    "    e1, e2, e3 = basis_a12(at)\n",
    "    x = [dot(e1, x) for x in X]\n",
    "    y = [dot(e2, x) for x in X]\n",
    "    z = [ round(Int, dot(e3, x) / 2.08423) for x in X ]\n",
    "    I0 = find(z .== 0)\n",
    "    I1 = find(z .== 1)\n",
    "    I2 = find(z .== 2)\n",
    "    return [x'; y'], I0, I1, I2\n",
    "end \n",
    "\n",
    "function plotfcc(P, I0, I1, I2; mrksz=20)\n",
    "    plot(P[1,I0], P[2,I0], \"b.\", markersize=mrksz )\n",
    "    plot(P[1,I1], P[2,I1], \"r.\", markersize=mrksz )\n",
    "    plot(P[1,I2], P[2,I2], \"g.\", markersize=mrksz )\n",
    "    axis(\"square\")\n",
    "end \n",
    "\n"
   ]
  },
  {
   "cell_type": "code",
   "execution_count": 6,
   "metadata": {
    "collapsed": false
   },
   "outputs": [
    {
     "name": "stdout",
     "output_type": "stream",
     "text": [
      "(a1,a2,a3) = ([0.0,1.805,1.805],[1.805,0.0,1.805],[1.805,1.805,0.0])\n"
     ]
    },
    {
     "data": {
      "text/plain": [
       "([0.0,1.805,1.805],[1.805,0.0,1.805],[1.805,1.805,0.0])"
      ]
     },
     "execution_count": 6,
     "metadata": {},
     "output_type": "execute_result"
    }
   ],
   "source": [
    "at = bulk(\"Cu\")\n",
    "F = defm(at)\n",
    "a1, a2, a3 = F[:,1], F[:,2], F[:,3]\n",
    "@show a1, a2, a3\n",
    "# n = a1 × a2\n",
    "# @show n "
   ]
  },
  {
   "cell_type": "code",
   "execution_count": 5,
   "metadata": {
    "collapsed": false
   },
   "outputs": [
    {
     "data": {
      "text/plain": [
       "JuLIP.ASE.ASEAtoms(PyObject Atoms(symbols='Cu147', positions=..., cell=[[0.0, 12.635, 12.635], [12.635, 0.0, 12.635], [5.415, 5.415, 0.0]], pbc=[True, True, True]),JuLIP.NullCalculator(),JuLIP.NullConstraint())"
      ]
     },
     "execution_count": 5,
     "metadata": {},
     "output_type": "execute_result"
    }
   ],
   "source": [
    "at = bulk(\"Cu\") * (7,7,3)\n",
    "# JuLIP.Visualise.show(at)"
   ]
  },
  {
   "cell_type": "code",
   "execution_count": 65,
   "metadata": {
    "collapsed": false,
    "scrolled": true
   },
   "outputs": [
    {
     "data": {
      "image/png": "[encoded data removed]",
      "text/plain": [
       "PyPlot.Figure(PyObject <matplotlib.figure.Figure object at 0x32d6c7710>)"
      ]
     },
     "metadata": {},
     "output_type": "display_data"
    },
    {
     "data": {
      "text/plain": [
       "PyObject <matplotlib.patches.FancyArrow object at 0x32d52a890>"
      ]
     },
     "execution_count": 65,
     "metadata": {},
     "output_type": "execute_result"
    }
   ],
   "source": [
    "at = bulk(\"Cu\") * (7,7,3)\n",
    "P, I0, I1, I2 = pos2d(at)   # this projecs onto the plane spanned by a1, a2 \n",
    "plotfcc(P, I0, I1, I2)\n",
    "axis([5, 15, 0, 10]);\n",
    "E = basis_a12(at) \n",
    "atu = bulk(\"Cu\")\n",
    "b = defm(atu)[:,3] \n",
    "b12 = project12(b, E)\n",
    "arrow(9, 3.5, b12[1], b12[2], length_includes_head=true, width=0.01)\n"
   ]
  },
  {
   "cell_type": "markdown",
   "metadata": {},
   "source": [
    "\n",
    "## How to generate domains"
   ]
  },
  {
   "cell_type": "code",
   "execution_count": null,
   "metadata": {
    "collapsed": true
   },
   "outputs": [],
   "source": []
  }
 ],
 "metadata": {
  "kernelspec": {
   "display_name": "Julia 0.5.0",
   "language": "julia",
   "name": "julia-0.5"
  },
  "language_info": {
   "file_extension": ".jl",
   "mimetype": "application/julia",
   "name": "julia",
   "version": "0.5.0"
  }
 },
 "nbformat": 4,
 "nbformat_minor": 0
}
