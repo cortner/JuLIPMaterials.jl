{
 "cells": [
  {
   "cell_type": "code",
   "execution_count": 13,
   "metadata": {
    "collapsed": false
   },
   "outputs": [
    {
     "name": "stderr",
     "output_type": "stream",
     "text": [
      "WARNING: replacing module MaterialsScienceTools\n"
     ]
    },
    {
     "data": {
      "text/plain": [
       "MaterialsScienceTools.BCC"
      ]
     },
     "execution_count": 13,
     "metadata": {},
     "output_type": "execute_result"
    }
   ],
   "source": [
    "using JuLIP\n",
    "reload(\"MaterialsScienceTools\")\n",
    "BCC = MaterialsScienceTools.BCC "
   ]
  },
  {
   "cell_type": "code",
   "execution_count": 14,
   "metadata": {
    "collapsed": false
   },
   "outputs": [
    {
     "data": {
      "text/plain": [
       "JuLIP.ASE.ASEAtoms(PyObject Atoms(symbols='Fe6', positions=..., cell=[7.030035561787721, 4.058792924010782, 2.485492908861339], pbc=[True, True, True]),JuLIP.NullCalculator(),JuLIP.NullConstraint(),Dict{Symbol,JuLIP.ASE.TransientData}())"
      ]
     },
     "execution_count": 14,
     "metadata": {},
     "output_type": "execute_result"
    }
   ],
   "source": [
    "at = BCC.cell_111(\"Fe\")\n",
    "# looks correct"
   ]
  },
  {
   "cell_type": "code",
   "execution_count": 17,
   "metadata": {
    "collapsed": false
   },
   "outputs": [
    {
     "data": {
      "text/plain": [
       "JuLIP.ASE.ASEAtoms(PyObject Atoms(symbols='Fe122', positions=..., cell=[70.30035561787722, 48.70551508812939, 4.970985817722678], pbc=[False, False, True]),JuLIP.NullCalculator(),JuLIP.NullConstraint(),Dict{Symbol,JuLIP.ASE.TransientData}())"
      ]
     },
     "execution_count": 17,
     "metadata": {},
     "output_type": "execute_result"
    }
   ],
   "source": [
    "at = BCC.screw_111(\"Fe\", 10.1, layers=2)"
   ]
  },
  {
   "cell_type": "code",
   "execution_count": 18,
   "metadata": {
    "collapsed": false
   },
   "outputs": [
    {
     "data": {
      "text/html": [
       "<div id=\"molecule_c545bc26-f42b-4f5b-9972-689132353bd3\"></div>\n",
       "           <script type=\"text/javascript\">\n",
       "           require.config({baseUrl: '/',\n",
       "                           paths: {imolecule: ['nbextensions/imolecule.min', 'https://rawgit.com/patrickfuller/imolecule/master/imolecule/js/build/imolecule.min']}});\n",
       "           require(['imolecule'], function () {\n",
       "               var $d = $('#molecule_c545bc26-f42b-4f5b-9972-689132353bd3');\n",
       "               $d.width(500); $d.height(500);\n",
       "               $d.imolecule = jQuery.extend({}, imolecule);\n",
       "               $d.imolecule.create($d, {drawingType: 'ball and stick',\n",
       "                                        cameraType: 'perspective',\n",
       "                                        shader: 'lambert',\n",
       "                                        showSave: false});\n",
       "               $d.imolecule.addElements({});\n",
       "               $d.imolecule.draw({\"atoms\":[{\"element\":\"Fe\",\"location\":[0.000000,-0.000000,-3.049143]},{\"element\":\"Fe\",\"location\":[2.343345,-0.000000,-1.392148]},{\"element\":\"Fe\",\"location\":[4.686690,-0.000000,-0.431735]},{\"element\":\"Fe\",\"location\":[1.171673,2.029396,0.264848]},{\"element\":\"Fe\",\"location\":[3.515018,2.029396,-1.806396]},{\"element\":\"Fe\",\"location\":[5.858363,2.029396,-1.073852]},{\"element\":\"Fe\",\"location\":[0.000000,4.058793,-1.260233]},{\"element\":\"Fe\",\"location\":[2.343345,4.058793,-0.695565]},{\"element\":\"Fe\",\"location\":[4.686690,4.058793,-0.053448]},{\"element\":\"Fe\",\"location\":[1.171673,6.088189,0.264848]},{\"element\":\"Fe\",\"location\":[3.515018,6.088189,-1.553796]},{\"element\":\"Fe\",\"location\":[5.858363,6.088189,-0.845984]},{\"element\":\"Fe\",\"location\":[0.000000,8.117586,-1.330367]},{\"element\":\"Fe\",\"location\":[2.343345,8.117586,-0.625430]},{\"element\":\"Fe\",\"location\":[4.686690,8.117586,0.090276]},{\"element\":\"Fe\",\"location\":[7.030036,-0.000000,-2.058997]},{\"element\":\"Fe\",\"location\":[9.373381,-0.000000,-1.217576]},{\"element\":\"Fe\",\"location\":[8.201708,2.029396,-0.281316]},{\"element\":\"Fe\",\"location\":[7.030036,4.058793,-1.806396]},{\"element\":\"Fe\",\"location\":[-2.343345,-0.000000,-2.352560]},{\"element\":\"Fe\",\"location\":[-4.686690,-0.000000,-1.553796]},{\"element\":\"Fe\",\"location\":[-1.171673,2.029396,0.679096]},{\"element\":\"Fe\",\"location\":[-3.515018,2.029396,-0.881946]},{\"element\":\"Fe\",\"location\":[-5.858363,2.029396,-0.017486]},{\"element\":\"Fe\",\"location\":[-2.343345,4.058793,-0.245354]},{\"element\":\"Fe\",\"location\":[-4.686690,4.058793,0.679096]},{\"element\":\"Fe\",\"location\":[-1.171673,6.088189,0.426496]},{\"element\":\"Fe\",\"location\":[-3.515018,6.088189,-1.109814]},{\"element\":\"Fe\",\"location\":[-5.858363,6.088189,-0.201797]},{\"element\":\"Fe\",\"location\":[-2.343345,8.117586,-0.389079]},{\"element\":\"Fe\",\"location\":[-4.686690,8.117586,0.528677]},{\"element\":\"Fe\",\"location\":[-7.030036,-0.000000,-3.223714]},{\"element\":\"Fe\",\"location\":[-9.373381,-0.000000,-2.402428]},{\"element\":\"Fe\",\"location\":[-8.201708,2.029396,0.829516]},{\"element\":\"Fe\",\"location\":[-7.030036,4.058793,-0.925503]},{\"element\":\"Fe\",\"location\":[1.171673,-2.029396,-0.977899]},{\"element\":\"Fe\",\"location\":[3.515018,-2.029396,-2.352560]},{\"element\":\"Fe\",\"location\":[5.858363,-2.029396,-1.392148]},{\"element\":\"Fe\",\"location\":[0.000000,-4.058793,-2.730847]},{\"element\":\"Fe\",\"location\":[2.343345,-4.058793,-1.710443]},{\"element\":\"Fe\",\"location\":[4.686690,-4.058793,-0.725298]},{\"element\":\"Fe\",\"location\":[1.171673,-6.088189,-0.977899]},{\"element\":\"Fe\",\"location\":[3.515018,-6.088189,-2.502979]},{\"element\":\"Fe\",\"location\":[5.858363,-6.088189,-1.566719]},{\"element\":\"Fe\",\"location\":[0.000000,-8.117586,-2.687290]},{\"element\":\"Fe\",\"location\":[2.343345,-8.117586,-1.754000]},{\"element\":\"Fe\",\"location\":[4.686690,-8.117586,-0.827480]},{\"element\":\"Fe\",\"location\":[8.201708,-2.029396,-0.501870]},{\"element\":\"Fe\",\"location\":[7.030036,-4.058793,-2.282426]},{\"element\":\"Fe\",\"location\":[-1.171673,-2.029396,-1.260233]},{\"element\":\"Fe\",\"location\":[-3.515018,-2.029396,-3.049143]},{\"element\":\"Fe\",\"location\":[-5.858363,-2.029396,-2.282426]},{\"element\":\"Fe\",\"location\":[-2.343345,-4.058793,-2.058997]},{\"element\":\"Fe\",\"location\":[-4.686690,-4.058793,-1.330367]},{\"element\":\"Fe\",\"location\":[-1.171673,-6.088189,-1.109814]},{\"element\":\"Fe\",\"location\":[-3.515018,-6.088189,-2.874572]},{\"element\":\"Fe\",\"location\":[-5.858363,-6.088189,-2.124692]},{\"element\":\"Fe\",\"location\":[-2.343345,-8.117586,-1.956816]},{\"element\":\"Fe\",\"location\":[-4.686690,-8.117586,-1.210365]},{\"element\":\"Fe\",\"location\":[-8.201708,-2.029396,-1.488101]},{\"element\":\"Fe\",\"location\":[-7.030036,-4.058793,-3.049143]},{\"element\":\"Fe\",\"location\":[0.000000,-0.000000,-0.563650]},{\"element\":\"Fe\",\"location\":[2.343345,-0.000000,1.093345]},{\"element\":\"Fe\",\"location\":[4.686690,-0.000000,2.053758]},{\"element\":\"Fe\",\"location\":[1.171673,2.029396,2.750341]},{\"element\":\"Fe\",\"location\":[3.515018,2.029396,0.679096]},{\"element\":\"Fe\",\"location\":[5.858363,2.029396,1.411641]},{\"element\":\"Fe\",\"location\":[0.000000,4.058793,1.225260]},{\"element\":\"Fe\",\"location\":[2.343345,4.058793,1.789928]},{\"element\":\"Fe\",\"location\":[4.686690,4.058793,2.432045]},{\"element\":\"Fe\",\"location\":[1.171673,6.088189,2.750341]},{\"element\":\"Fe\",\"location\":[3.515018,6.088189,0.931697]},{\"element\":\"Fe\",\"location\":[5.858363,6.088189,1.639509]},{\"element\":\"Fe\",\"location\":[0.000000,8.117586,1.155125]},{\"element\":\"Fe\",\"location\":[2.343345,8.117586,1.860063]},{\"element\":\"Fe\",\"location\":[4.686690,8.117586,2.575769]},{\"element\":\"Fe\",\"location\":[7.030036,-0.000000,0.426496]},{\"element\":\"Fe\",\"location\":[9.373381,-0.000000,1.267917]},{\"element\":\"Fe\",\"location\":[8.201708,2.029396,2.204177]},{\"element\":\"Fe\",\"location\":[7.030036,4.058793,0.679096]},{\"element\":\"Fe\",\"location\":[-2.343345,-0.000000,0.132933]},{\"element\":\"Fe\",\"location\":[-4.686690,-0.000000,0.931697]},{\"element\":\"Fe\",\"location\":[-1.171673,2.029396,3.164589]},{\"element\":\"Fe\",\"location\":[-3.515018,2.029396,1.603547]},{\"element\":\"Fe\",\"location\":[-5.858363,2.029396,2.468007]},{\"element\":\"Fe\",\"location\":[-2.343345,4.058793,2.240139]},{\"element\":\"Fe\",\"location\":[-4.686690,4.058793,3.164589]},{\"element\":\"Fe\",\"location\":[-1.171673,6.088189,2.911989]},{\"element\":\"Fe\",\"location\":[-3.515018,6.088189,1.375679]},{\"element\":\"Fe\",\"location\":[-5.858363,6.088189,2.283696]},{\"element\":\"Fe\",\"location\":[-2.343345,8.117586,2.096414]},{\"element\":\"Fe\",\"location\":[-4.686690,8.117586,3.014170]},{\"element\":\"Fe\",\"location\":[-7.030036,-0.000000,-0.738221]},{\"element\":\"Fe\",\"location\":[-9.373381,-0.000000,0.083065]},{\"element\":\"Fe\",\"location\":[-8.201708,2.029396,3.315009]},{\"element\":\"Fe\",\"location\":[-7.030036,4.058793,1.559990]},{\"element\":\"Fe\",\"location\":[1.171673,-2.029396,1.507594]},{\"element\":\"Fe\",\"location\":[3.515018,-2.029396,0.132933]},{\"element\":\"Fe\",\"location\":[5.858363,-2.029396,1.093345]},{\"element\":\"Fe\",\"location\":[0.000000,-4.058793,-0.245354]},{\"element\":\"Fe\",\"location\":[2.343345,-4.058793,0.775049]},{\"element\":\"Fe\",\"location\":[4.686690,-4.058793,1.760195]},{\"element\":\"Fe\",\"location\":[1.171673,-6.088189,1.507594]},{\"element\":\"Fe\",\"location\":[3.515018,-6.088189,-0.017486]},{\"element\":\"Fe\",\"location\":[5.858363,-6.088189,0.918774]},{\"element\":\"Fe\",\"location\":[0.000000,-8.117586,-0.201797]},{\"element\":\"Fe\",\"location\":[2.343345,-8.117586,0.731493]},{\"element\":\"Fe\",\"location\":[4.686690,-8.117586,1.658013]},{\"element\":\"Fe\",\"location\":[8.201708,-2.029396,1.983623]},{\"element\":\"Fe\",\"location\":[7.030036,-4.058793,0.203067]},{\"element\":\"Fe\",\"location\":[-1.171673,-2.029396,1.225260]},{\"element\":\"Fe\",\"location\":[-3.515018,-2.029396,-0.563650]},{\"element\":\"Fe\",\"location\":[-5.858363,-2.029396,0.203067]},{\"element\":\"Fe\",\"location\":[-2.343345,-4.058793,0.426496]},{\"element\":\"Fe\",\"location\":[-4.686690,-4.058793,1.155125]},{\"element\":\"Fe\",\"location\":[-1.171673,-6.088189,1.375679]},{\"element\":\"Fe\",\"location\":[-3.515018,-6.088189,-0.389079]},{\"element\":\"Fe\",\"location\":[-5.858363,-6.088189,0.360801]},{\"element\":\"Fe\",\"location\":[-2.343345,-8.117586,0.528677]},{\"element\":\"Fe\",\"location\":[-4.686690,-8.117586,1.275128]},{\"element\":\"Fe\",\"location\":[-8.201708,-2.029396,0.997392]},{\"element\":\"Fe\",\"location\":[-7.030036,-4.058793,-0.563650]}],\"bonds\":[{\"atoms\":[31,32],\"order\":1},{\"atoms\":[31,51],\"order\":1},{\"atoms\":[31,92],\"order\":1},{\"atoms\":[50,19],\"order\":1},{\"atoms\":[50,51],\"order\":1},{\"atoms\":[50,111],\"order\":1},{\"atoms\":[60,51],\"order\":1},{\"atoms\":[60,56],\"order\":1},{\"atoms\":[60,59],\"order\":1},{\"atoms\":[60,121],\"order\":1},{\"atoms\":[0,19],\"order\":1},{\"atoms\":[0,61],\"order\":1},{\"atoms\":[55,56],\"order\":1},{\"atoms\":[55,52],\"order\":1},{\"atoms\":[55,57],\"order\":1},{\"atoms\":[55,58],\"order\":1},{\"atoms\":[55,116],\"order\":1},{\"atoms\":[38,52],\"order\":1},{\"atoms\":[38,99],\"order\":1},{\"atoms\":[44,57],\"order\":1},{\"atoms\":[44,45],\"order\":1},{\"atoms\":[44,105],\"order\":1},{\"atoms\":[42,45],\"order\":1},{\"atoms\":[42,39],\"order\":1},{\"atoms\":[42,43],\"order\":1},{\"atoms\":[42,46],\"order\":1},{\"atoms\":[42,103],\"order\":1},{\"atoms\":[32,59],\"order\":1},{\"atoms\":[32,93],\"order\":1},{\"atoms\":[19,20],\"order\":1},{\"atoms\":[19,22],\"order\":1},{\"atoms\":[19,80],\"order\":1},{\"atoms\":[36,39],\"order\":1},{\"atoms\":[36,1],\"order\":1},{\"atoms\":[36,97],\"order\":1},{\"atoms\":[51,20],\"order\":1},{\"atoms\":[51,59],\"order\":1},{\"atoms\":[51,112],\"order\":1},{\"atoms\":[48,43],\"order\":1},{\"atoms\":[48,37],\"order\":1},{\"atoms\":[48,109],\"order\":1},{\"atoms\":[56,53],\"order\":1},{\"atoms\":[56,58],\"order\":1},{\"atoms\":[56,121],\"order\":1},{\"atoms\":[56,117],\"order\":1},{\"atoms\":[15,37],\"order\":1},{\"atoms\":[15,16],\"order\":1},{\"atoms\":[15,5],\"order\":1},{\"atoms\":[15,47],\"order\":1},{\"atoms\":[15,76],\"order\":1},{\"atoms\":[52,53],\"order\":1},{\"atoms\":[52,49],\"order\":1},{\"atoms\":[52,113],\"order\":1},{\"atoms\":[57,58],\"order\":1},{\"atoms\":[57,54],\"order\":1},{\"atoms\":[57,118],\"order\":1},{\"atoms\":[4,1],\"order\":1},{\"atoms\":[4,5],\"order\":1},{\"atoms\":[4,7],\"order\":1},{\"atoms\":[4,65],\"order\":1},{\"atoms\":[18,5],\"order\":1},{\"atoms\":[18,11],\"order\":1},{\"atoms\":[18,17],\"order\":1},{\"atoms\":[18,79],\"order\":1},{\"atoms\":[45,41],\"order\":1},{\"atoms\":[45,46],\"order\":1},{\"atoms\":[45,105],\"order\":1},{\"atoms\":[45,106],\"order\":1},{\"atoms\":[39,41],\"order\":1},{\"atoms\":[39,35],\"order\":1},{\"atoms\":[39,100],\"order\":1},{\"atoms\":[43,46],\"order\":1},{\"atoms\":[43,40],\"order\":1},{\"atoms\":[43,104],\"order\":1},{\"atoms\":[20,22],\"order\":1},{\"atoms\":[20,92],\"order\":1},{\"atoms\":[20,81],\"order\":1},{\"atoms\":[10,11],\"order\":1},{\"atoms\":[10,7],\"order\":1},{\"atoms\":[10,13],\"order\":1},{\"atoms\":[10,14],\"order\":1},{\"atoms\":[10,71],\"order\":1},{\"atoms\":[59,92],\"order\":1},{\"atoms\":[59,121],\"order\":1},{\"atoms\":[59,120],\"order\":1},{\"atoms\":[1,35],\"order\":1},{\"atoms\":[1,61],\"order\":1},{\"atoms\":[1,2],\"order\":1},{\"atoms\":[1,62],\"order\":1},{\"atoms\":[37,40],\"order\":1},{\"atoms\":[37,47],\"order\":1},{\"atoms\":[37,2],\"order\":1},{\"atoms\":[37,98],\"order\":1},{\"atoms\":[53,121],\"order\":1},{\"atoms\":[53,111],\"order\":1},{\"atoms\":[53,114],\"order\":1},{\"atoms\":[12,13],\"order\":1},{\"atoms\":[12,29],\"order\":1},{\"atoms\":[12,73],\"order\":1},{\"atoms\":[49,35],\"order\":1},{\"atoms\":[49,61],\"order\":1},{\"atoms\":[49,111],\"order\":1},{\"atoms\":[49,99],\"order\":1},{\"atoms\":[49,110],\"order\":1},{\"atoms\":[6,7],\"order\":1},{\"atoms\":[6,67],\"order\":1},{\"atoms\":[16,47],\"order\":1},{\"atoms\":[16,17],\"order\":1},{\"atoms\":[16,77],\"order\":1},{\"atoms\":[58,116],\"order\":1},{\"atoms\":[58,117],\"order\":1},{\"atoms\":[58,119],\"order\":1},{\"atoms\":[54,41],\"order\":1},{\"atoms\":[54,116],\"order\":1},{\"atoms\":[54,99],\"order\":1},{\"atoms\":[54,105],\"order\":1},{\"atoms\":[54,115],\"order\":1},{\"atoms\":[27,29],\"order\":1},{\"atoms\":[27,24],\"order\":1},{\"atoms\":[27,28],\"order\":1},{\"atoms\":[27,30],\"order\":1},{\"atoms\":[27,88],\"order\":1},{\"atoms\":[5,2],\"order\":1},{\"atoms\":[5,17],\"order\":1},{\"atoms\":[5,66],\"order\":1},{\"atoms\":[41,99],\"order\":1},{\"atoms\":[41,105],\"order\":1},{\"atoms\":[41,102],\"order\":1},{\"atoms\":[35,61],\"order\":1},{\"atoms\":[35,99],\"order\":1},{\"atoms\":[35,96],\"order\":1},{\"atoms\":[34,28],\"order\":1},{\"atoms\":[34,23],\"order\":1},{\"atoms\":[34,95],\"order\":1},{\"atoms\":[22,24],\"order\":1},{\"atoms\":[22,23],\"order\":1},{\"atoms\":[22,80],\"order\":1},{\"atoms\":[22,83],\"order\":1},{\"atoms\":[11,8],\"order\":1},{\"atoms\":[11,14],\"order\":1},{\"atoms\":[11,79],\"order\":1},{\"atoms\":[11,72],\"order\":1},{\"atoms\":[46,103],\"order\":1},{\"atoms\":[46,106],\"order\":1},{\"atoms\":[46,107],\"order\":1},{\"atoms\":[92,23],\"order\":1},{\"atoms\":[92,93],\"order\":1},{\"atoms\":[92,112],\"order\":1},{\"atoms\":[40,103],\"order\":1},{\"atoms\":[40,97],\"order\":1},{\"atoms\":[40,109],\"order\":1},{\"atoms\":[40,101],\"order\":1},{\"atoms\":[7,8],\"order\":1},{\"atoms\":[7,68],\"order\":1},{\"atoms\":[13,14],\"order\":1},{\"atoms\":[13,9],\"order\":1},{\"atoms\":[13,74],\"order\":1},{\"atoms\":[61,80],\"order\":1},{\"atoms\":[61,3],\"order\":1},{\"atoms\":[121,112],\"order\":1},{\"atoms\":[121,117],\"order\":1},{\"atoms\":[111,80],\"order\":1},{\"atoms\":[111,112],\"order\":1},{\"atoms\":[47,109],\"order\":1},{\"atoms\":[47,76],\"order\":1},{\"atoms\":[47,108],\"order\":1},{\"atoms\":[2,97],\"order\":1},{\"atoms\":[2,76],\"order\":1},{\"atoms\":[2,63],\"order\":1},{\"atoms\":[116,117],\"order\":1},{\"atoms\":[116,113],\"order\":1},{\"atoms\":[116,118],\"order\":1},{\"atoms\":[29,26],\"order\":1},{\"atoms\":[29,30],\"order\":1},{\"atoms\":[29,73],\"order\":1},{\"atoms\":[29,90],\"order\":1},{\"atoms\":[17,76],\"order\":1},{\"atoms\":[17,79],\"order\":1},{\"atoms\":[17,78],\"order\":1},{\"atoms\":[24,26],\"order\":1},{\"atoms\":[24,25],\"order\":1},{\"atoms\":[24,21],\"order\":1},{\"atoms\":[24,85],\"order\":1},{\"atoms\":[99,113],\"order\":1},{\"atoms\":[105,118],\"order\":1},{\"atoms\":[105,106],\"order\":1},{\"atoms\":[28,30],\"order\":1},{\"atoms\":[28,25],\"order\":1},{\"atoms\":[28,89],\"order\":1},{\"atoms\":[8,65],\"order\":1},{\"atoms\":[8,79],\"order\":1},{\"atoms\":[8,69],\"order\":1},{\"atoms\":[103,106],\"order\":1},{\"atoms\":[103,100],\"order\":1},{\"atoms\":[103,104],\"order\":1},{\"atoms\":[23,25],\"order\":1},{\"atoms\":[23,33],\"order\":1},{\"atoms\":[23,84],\"order\":1},{\"atoms\":[93,33],\"order\":1},{\"atoms\":[93,120],\"order\":1},{\"atoms\":[14,71],\"order\":1},{\"atoms\":[14,72],\"order\":1},{\"atoms\":[14,75],\"order\":1},{\"atoms\":[97,100],\"order\":1},{\"atoms\":[97,62],\"order\":1},{\"atoms\":[80,21],\"order\":1},{\"atoms\":[80,81],\"order\":1},{\"atoms\":[112,81],\"order\":1},{\"atoms\":[112,120],\"order\":1},{\"atoms\":[109,104],\"order\":1},{\"atoms\":[109,98],\"order\":1},{\"atoms\":[109,101],\"order\":1},{\"atoms\":[9,26],\"order\":1},{\"atoms\":[9,71],\"order\":1},{\"atoms\":[9,73],\"order\":1},{\"atoms\":[9,67],\"order\":1},{\"atoms\":[9,70],\"order\":1},{\"atoms\":[3,65],\"order\":1},{\"atoms\":[3,21],\"order\":1},{\"atoms\":[3,62],\"order\":1},{\"atoms\":[3,67],\"order\":1},{\"atoms\":[3,64],\"order\":1},{\"atoms\":[117,114],\"order\":1},{\"atoms\":[117,119],\"order\":1},{\"atoms\":[26,73],\"order\":1},{\"atoms\":[26,67],\"order\":1},{\"atoms\":[26,87],\"order\":1},{\"atoms\":[113,114],\"order\":1},{\"atoms\":[113,110],\"order\":1},{\"atoms\":[113,115],\"order\":1},{\"atoms\":[76,98],\"order\":1},{\"atoms\":[76,77],\"order\":1},{\"atoms\":[30,88],\"order\":1},{\"atoms\":[30,90],\"order\":1},{\"atoms\":[30,91],\"order\":1},{\"atoms\":[118,119],\"order\":1},{\"atoms\":[118,115],\"order\":1},{\"atoms\":[65,62],\"order\":1},{\"atoms\":[65,66],\"order\":1},{\"atoms\":[25,88],\"order\":1},{\"atoms\":[25,95],\"order\":1},{\"atoms\":[25,86],\"order\":1},{\"atoms\":[21,67],\"order\":1},{\"atoms\":[21,83],\"order\":1},{\"atoms\":[21,82],\"order\":1},{\"atoms\":[79,66],\"order\":1},{\"atoms\":[79,72],\"order\":1},{\"atoms\":[106,102],\"order\":1},{\"atoms\":[106,107],\"order\":1},{\"atoms\":[100,96],\"order\":1},{\"atoms\":[100,102],\"order\":1},{\"atoms\":[100,101],\"order\":1},{\"atoms\":[33,95],\"order\":1},{\"atoms\":[33,94],\"order\":1},{\"atoms\":[104,107],\"order\":1},{\"atoms\":[104,101],\"order\":1},{\"atoms\":[71,72],\"order\":1},{\"atoms\":[71,68],\"order\":1},{\"atoms\":[71,74],\"order\":1},{\"atoms\":[81,83],\"order\":1},{\"atoms\":[81,84],\"order\":1},{\"atoms\":[62,96],\"order\":1},{\"atoms\":[62,63],\"order\":1},{\"atoms\":[98,101],\"order\":1},{\"atoms\":[98,108],\"order\":1},{\"atoms\":[98,63],\"order\":1},{\"atoms\":[73,74],\"order\":1},{\"atoms\":[73,90],\"order\":1},{\"atoms\":[67,68],\"order\":1},{\"atoms\":[110,96],\"order\":1},{\"atoms\":[77,108],\"order\":1},{\"atoms\":[77,78],\"order\":1},{\"atoms\":[88,90],\"order\":1},{\"atoms\":[88,85],\"order\":1},{\"atoms\":[88,89],\"order\":1},{\"atoms\":[115,102],\"order\":1},{\"atoms\":[66,63],\"order\":1},{\"atoms\":[66,78],\"order\":1},{\"atoms\":[95,89],\"order\":1},{\"atoms\":[95,84],\"order\":1},{\"atoms\":[95,86],\"order\":1},{\"atoms\":[83,85],\"order\":1},{\"atoms\":[83,84],\"order\":1},{\"atoms\":[83,82],\"order\":1},{\"atoms\":[72,69],\"order\":1},{\"atoms\":[72,75],\"order\":1},{\"atoms\":[68,69],\"order\":1},{\"atoms\":[68,64],\"order\":1},{\"atoms\":[68,70],\"order\":1},{\"atoms\":[74,75],\"order\":1},{\"atoms\":[74,70],\"order\":1},{\"atoms\":[90,87],\"order\":1},{\"atoms\":[90,91],\"order\":1},{\"atoms\":[85,87],\"order\":1},{\"atoms\":[85,82],\"order\":1},{\"atoms\":[85,86],\"order\":1},{\"atoms\":[89,91],\"order\":1},{\"atoms\":[89,86],\"order\":1},{\"atoms\":[84,86],\"order\":1},{\"atoms\":[84,94],\"order\":1},{\"atoms\":[64,82],\"order\":1},{\"atoms\":[70,87],\"order\":1}],\"formula\":\"Fe122\",\"molecular_weight\":6813.090000,\"units\":{\"molecular_weight\":\"g / mol\"}});\n",
       "\n",
       "               $d.resizable({\n",
       "                   aspectRatio: 500 / 500,\n",
       "                   resize: function (evt, ui) {\n",
       "                       $d.imolecule.renderer.setSize(ui.size.width,\n",
       "                                                     ui.size.height);\n",
       "                   }\n",
       "               });\n",
       "           });\n",
       "           </script>"
      ],
      "text/plain": [
       "PyObject <IPython.core.display.HTML object>"
      ]
     },
     "execution_count": 18,
     "metadata": {},
     "output_type": "execute_result"
    }
   ],
   "source": [
    "JuLIP.Visualise.show(at)"
   ]
  },
  {
   "cell_type": "code",
   "execution_count": null,
   "metadata": {
    "collapsed": true
   },
   "outputs": [],
   "source": []
  }
 ],
 "metadata": {
  "anaconda-cloud": {},
  "kernelspec": {
   "display_name": "Julia 0.5.2-pre",
   "language": "julia",
   "name": "julia-0.5"
  },
  "language_info": {
   "file_extension": ".jl",
   "mimetype": "application/julia",
   "name": "julia",
   "version": "0.5.2"
  }
 },
 "nbformat": 4,
 "nbformat_minor": 0
}
