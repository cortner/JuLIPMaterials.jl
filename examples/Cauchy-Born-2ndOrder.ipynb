{
 "cells": [
  {
   "cell_type": "code",
   "execution_count": null,
   "metadata": {},
   "outputs": [],
   "source": [
    "using Base.Test, JuLIPMaterials, JuLIP, ForwardDiff, Plots\n",
    "Plots.pyplot()\n",
    "\n",
    "MST = JuLIPMaterials\n",
    "CB = MST.CauchyBorn\n",
    "CLE = MST.CLE\n",
    "FD = ForwardDiff"
   ]
  },
  {
   "cell_type": "code",
   "execution_count": null,
   "metadata": {},
   "outputs": [],
   "source": [
    "# setup a Cauchy-Born model for bulk Fe\n",
    "atu = bulk(:Fe)\n",
    "r0 = rnn(:Fe)\n",
    "calc = LennardJones(σ = r0) * C2Shift(2.7*r0)\n",
    "set_calculator!(atu, calc)\n",
    "set_constraint!(atu, VariableCell(atu))\n",
    "println(\"Constructing Wcb.\")\n",
    "# normalise CB potential w.r.t. # atoms instead of volume\n",
    "W = CB.Wcb(atu, calc, normalise = :atoms)\n",
    ";"
   ]
  },
  {
   "cell_type": "code",
   "execution_count": null,
   "metadata": {},
   "outputs": [],
   "source": [
    "# show a bit how it behaves\n",
    "@show energy(atu) - W(eye(3))\n",
    "@show CB.grad(W, eye(3)) - (-virial(atu))\n",
    ";"
   ]
  },
  {
   "cell_type": "code",
   "execution_count": null,
   "metadata": {},
   "outputs": [],
   "source": [
    "# compute atomistic and Cauchy-Born forces on \n",
    "# a large cluster \n",
    "\n",
    "R = 62.1\n",
    "at = cluster(:Fe, R)\n",
    "X0 = positions(at)    # reference positions\n",
    "x0 = X0[1]            # center of cluster \n",
    "\n",
    "# a nice, smooth displacement with 1/r decay \n",
    "p = -1\n",
    "const A = eye(3) #+rand(3,3)\n",
    "const B = eye(3) #+rand(3,3)\n",
    "y = x -> x + (2 + sum(dot(x-x0, A*(x-x0))))^((p-1)/2) * B * (x - x0)\n",
    "∇y = x -> FD.jacobian(y, x)\n",
    "\n",
    "# setup the atomistic domain and model \n",
    "set_calculator!(at, calc)\n",
    "set_positions!(at, y.(X0))\n",
    "\n",
    "# distance from center \n",
    "r = 1 + norm.([x - x0 for x in X0])\n",
    "# atomistic forces \n",
    "Fat = forces(at)\n",
    "# cauchy-born forces \n",
    "Fcb = [ CB.div_grad(W, ∇y, x)  for x in X0 ]\n",
    "# force error \n",
    "Ferr = norm.(Fat - Fcb)\n",
    ";"
   ]
  },
  {
   "cell_type": "code",
   "execution_count": null,
   "metadata": {},
   "outputs": [],
   "source": [
    "Iin = find(r .< 45)\n",
    "t = [extrema(r[Iin])...]\n",
    "P = plot(r[Iin], 1e-15+norm.(Fat[Iin]), lw=0, m=:+, ms=2, label = \"|f_at|\",\n",
    "         xaxis = (:log, [1.0, 1.2*R]), yaxis = (:log, [1e-3, 1e2]) )\n",
    "plot!(P, r[Iin], 1e-15+Ferr[Iin], lw = 0, m=:x, ms=2, label=\"|f_at - f_cb|\")\n",
    "plot!(P, t, 4_000*t.^(p-2), label = \"r^{p-2}\")\n",
    "plot!(P, t, 3_000*t.^(p-3), label = \"r^{p-3}\")\n",
    "plot!(P, t, 20_000*t.^(p-4), label = \"r^{p-4}\")\n",
    "display(P)\n",
    "# STRANGE - we get one power better than expected???? A symmetry thing again?\n",
    ";"
   ]
  },
  {
   "cell_type": "code",
   "execution_count": null,
   "metadata": {},
   "outputs": [],
   "source": []
  }
 ],
 "metadata": {
  "kernelspec": {
   "display_name": "Julia 0.6.2",
   "language": "julia",
   "name": "julia-0.6"
  },
  "language_info": {
   "file_extension": ".jl",
   "mimetype": "application/julia",
   "name": "julia",
   "version": "0.6.2"
  }
 },
 "nbformat": 4,
 "nbformat_minor": 2
}
