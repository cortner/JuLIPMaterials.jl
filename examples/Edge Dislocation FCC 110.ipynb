{
 "cells": [
  {
   "cell_type": "code",
   "execution_count": 1,
   "metadata": {},
   "outputs": [
    {
     "name": "stderr",
     "output_type": "stream",
     "text": [
      "┌ Info: Recompiling stale cache file /Users/ortner/.julia/compiled/v1.1/Revise/M1Qoh.ji for Revise [295af30f-e4ad-537b-8983-00126c2a3abe]\n",
      "└ @ Base loading.jl:1184\n"
     ]
    }
   ],
   "source": [
    "using Revise"
   ]
  },
  {
   "cell_type": "code",
   "execution_count": 8,
   "metadata": {},
   "outputs": [
    {
     "data": {
      "text/plain": [
       "plot_layers (generic function with 1 method)"
      ]
     },
     "execution_count": 8,
     "metadata": {},
     "output_type": "execute_result"
    }
   ],
   "source": [
    "using PyPlot, JuLIP, JuLIPMaterials\n",
    "\n",
    "FCC = JuLIPMaterials.FCC\n",
    "\n",
    "species = :Al\n",
    "calc = lennardjones(r0=rnn(species))\n",
    "\n",
    "function plot_layers(at; ms = 10, xcore = nothing)\n",
    "    x, y, z = xyz(at) \n",
    "    I0 = findall(z .== 0)\n",
    "    I1 = findall(z .> 0)\n",
    "    plot(x[I0], y[I0], \"b.\", markersize=ms)\n",
    "    plot(x[I1], y[I1], \"g.\", markersize=ms)\n",
    "    if xcore != nothing\n",
    "        plot([xcore[1]], [xcore[2]], \"r.\", markersize=1.5*ms)\n",
    "    end \n",
    "    PyPlot.axis(\"equal\")\n",
    "end "
   ]
  },
  {
   "cell_type": "code",
   "execution_count": 9,
   "metadata": {},
   "outputs": [
    {
     "data": {
      "image/png": "[encoded data removed]",
      "text/plain": [
       "Figure(PyObject <matplotlib.figure.Figure object at 0x13581d550>)"
      ]
     },
     "metadata": {},
     "output_type": "display_data"
    }
   ],
   "source": [
    "# [TEST1] Visualise the solution\n",
    "# ------------------------------------------------------------------------------------\n",
    "#   * change cle=:anisotropic to cle=:isotropic to experiment with the two solutions\n",
    "#   * try truncate = true to get a circular cluster\n",
    "# ------------------------------------------------------------------------------------\n",
    "\n",
    "at, xcore = FCC.fcc_edge_geom(species, 6.1, truncate=false, cle=:anisotropic, calc = calc)\n",
    "plot_layers(at, xcore=xcore);"
   ]
  },
  {
   "cell_type": "code",
   "execution_count": 11,
   "metadata": {},
   "outputs": [
    {
     "ename": "UndefVarError",
     "evalue": "UndefVarError: norm not defined",
     "output_type": "error",
     "traceback": [
      "UndefVarError: norm not defined",
      "",
      "Stacktrace:",
      " [1] (::getfield(Main, Symbol(\"##7#8\")){StaticArrays.SArray{Tuple{2},Float64,1,2}})(::StaticArrays.SArray{Tuple{3},Float64,1,3}) at ./none:0",
      " [2] iterate at ./generator.jl:47 [inlined]",
      " [3] collect(::Base.Generator{Array{StaticArrays.SArray{Tuple{3},Float64,1,3},1},getfield(Main, Symbol(\"##7#8\")){StaticArrays.SArray{Tuple{2},Float64,1,2}}}) at ./array.jl:606",
      " [4] top-level scope at In[11]:19"
     ]
    }
   ],
   "source": [
    "# [TEST2] Decay of residual forces\n",
    "# ------------------------------------------------------------\n",
    "#  We compute the predictors for \n",
    "#    * isotropic\n",
    "#    * anisotropic\n",
    "#    * anisotropic + EOS correction \n",
    "#  then plot the decay of residual forces for each case \n",
    "# ------------------------------------------------------------\n",
    "\n",
    "R = 150.0\n",
    "\n",
    "r = Vector{Float64}[] \n",
    "f = Vector{Float64}[] \n",
    "\n",
    "for (cle, corr) in [(:isotropic, false), (:anisotropic, false), (:anisotropic, true) ]\n",
    "    at, xc = FCC.fcc_edge_geom(species, R, truncate=true, cle=cle, calc = calc, eos_correction = corr)\n",
    "    set_calculator!(at, calc)\n",
    "    X = positions(at)\n",
    "    push!(r, [norm(x[1:2] - xc) for x in X]) \n",
    "    F = forces(at) \n",
    "    push!(f, norm.(F))\n",
    "end \n",
    "\n",
    "# plot the data points \n",
    "loglog(r[1], f[1], \"g.\", label=\"isotropic\", markersize=1)\n",
    "loglog(r[2], f[2], \"b.\", label=\"anisotropic\", markersize=1)\n",
    "loglog(r[3], f[3], \"r.\", label=\"aniso+corr\", markersize=1)\n",
    "\n",
    "s = [extrema(r[1])...]\n",
    "loglog(s, 40*s.^(-1), \"k:\", lw=3.0, label=L\"r^{-1}\")\n",
    "loglog(s, 40*s.^(-2), \"k--\", lw=3.0, label=L\"r^{-2}\")\n",
    "loglog(s, 400*s.^(-3), \"k-\", lw=3.0, label=L\"r^{-3}\")\n",
    "\n",
    "axis([0.5, s[2]*1.01, 1e-5, 1e2])\n",
    "legend(loc=\"lower left\")\n"
   ]
  },
  {
   "cell_type": "code",
   "execution_count": null,
   "metadata": {
    "collapsed": true
   },
   "outputs": [],
   "source": []
  }
 ],
 "metadata": {
  "@webio": {
   "lastCommId": null,
   "lastKernelId": null
  },
  "anaconda-cloud": {},
  "kernelspec": {
   "display_name": "Julia 1.1.0",
   "language": "julia",
   "name": "julia-1.1"
  },
  "language_info": {
   "file_extension": ".jl",
   "mimetype": "application/julia",
   "name": "julia",
   "version": "1.1.0"
  }
 },
 "nbformat": 4,
 "nbformat_minor": 1
}
