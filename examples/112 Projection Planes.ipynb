{
 "cells": [
  {
   "cell_type": "code",
   "execution_count": 1,
   "metadata": {
    "collapsed": false
   },
   "outputs": [
    {
     "data": {
      "text/plain": [
       "3×3 Array{Int64,2}:\n",
       " 3  0  0\n",
       " 1  1  1\n",
       " 2  2  2"
      ]
     },
     "execution_count": 1,
     "metadata": {},
     "output_type": "execute_result"
    }
   ],
   "source": [
    "X = [3 0 0; 1 1 1; 2 2 2;]"
   ]
  },
  {
   "cell_type": "code",
   "execution_count": 2,
   "metadata": {
    "collapsed": false
   },
   "outputs": [
    {
     "data": {
      "text/plain": [
       "3-element Array{Int64,1}:\n",
       " 3\n",
       " 0\n",
       " 0"
      ]
     },
     "execution_count": 2,
     "metadata": {},
     "output_type": "execute_result"
    }
   ],
   "source": [
    "X[1,:]"
   ]
  },
  {
   "cell_type": "code",
   "execution_count": 3,
   "metadata": {
    "collapsed": false
   },
   "outputs": [
    {
     "data": {
      "text/plain": [
       "(3,3)"
      ]
     },
     "execution_count": 3,
     "metadata": {},
     "output_type": "execute_result"
    }
   ],
   "source": [
    "size(X)"
   ]
  },
  {
   "cell_type": "code",
   "execution_count": 4,
   "metadata": {
    "collapsed": false
   },
   "outputs": [
    {
     "data": {
      "text/plain": [
       "(3,)"
      ]
     },
     "execution_count": 4,
     "metadata": {},
     "output_type": "execute_result"
    }
   ],
   "source": [
    "size(X[1,:])"
   ]
  },
  {
   "cell_type": "code",
   "execution_count": 5,
   "metadata": {
    "collapsed": false
   },
   "outputs": [
    {
     "data": {
      "text/plain": [
       "3-element Array{Int64,1}:\n",
       " 3\n",
       " 0\n",
       " 0"
      ]
     },
     "execution_count": 5,
     "metadata": {},
     "output_type": "execute_result"
    }
   ],
   "source": [
    "v = X[1,:]"
   ]
  },
  {
   "cell_type": "code",
   "execution_count": 6,
   "metadata": {
    "collapsed": false
   },
   "outputs": [
    {
     "data": {
      "text/plain": [
       "3-element Array{Int64,1}:\n",
       " 9\n",
       " 3\n",
       " 6"
      ]
     },
     "execution_count": 6,
     "metadata": {},
     "output_type": "execute_result"
    }
   ],
   "source": [
    "X*v"
   ]
  },
  {
   "cell_type": "code",
   "execution_count": 7,
   "metadata": {
    "collapsed": false
   },
   "outputs": [
    {
     "data": {
      "text/plain": [
       "3-element Array{Int64,1}:\n",
       " 3\n",
       " 1\n",
       " 2"
      ]
     },
     "execution_count": 7,
     "metadata": {},
     "output_type": "execute_result"
    }
   ],
   "source": [
    "X[:,1]"
   ]
  },
  {
   "cell_type": "code",
   "execution_count": 8,
   "metadata": {
    "collapsed": true
   },
   "outputs": [],
   "source": [
    "for i =1:3\n",
    "end"
   ]
  },
  {
   "cell_type": "code",
   "execution_count": 9,
   "metadata": {
    "collapsed": false
   },
   "outputs": [
    {
     "ename": "LoadError",
     "evalue": "InexactError()",
     "output_type": "error",
     "traceback": [
      "InexactError()",
      "",
      " in macro expansion at ./multidimensional.jl:431 [inlined]",
      " in macro expansion at ./cartesian.jl:64 [inlined]",
      " in macro expansion at ./multidimensional.jl:429 [inlined]",
      " in _unsafe_batchsetindex!(::Array{Int64,2}, ::Array{Float64,1}, ::Colon, ::Int64) at ./multidimensional.jl:421",
      " in setindex!(::Array{Int64,2}, ::Array{Float64,1}, ::Colon, ::Int64) at ./abstractarray.jl:832",
      " in macro expansion; at ./In[9]:3 [inlined]",
      " in anonymous at ./<missing>:?"
     ]
    }
   ],
   "source": [
    "T = [1/sqrt(2) 1/sqrt(3) 1/sqrt(6); 0 1/sqrt(3) -2/sqrt(6); 1/sqrt(2) 1/sqrt(3) 1/sqrt(6)]\n",
    "for i=1:3\n",
    "    X[:,i] = T*X[:,i]\n",
    "end"
   ]
  },
  {
   "cell_type": "code",
   "execution_count": 10,
   "metadata": {
    "collapsed": false
   },
   "outputs": [
    {
     "data": {
      "text/plain": [
       "3-element Array{Float64,1}:\n",
       "  3.51517\n",
       " -1.05564\n",
       "  3.51517"
      ]
     },
     "execution_count": 10,
     "metadata": {},
     "output_type": "execute_result"
    }
   ],
   "source": [
    "T = [1/sqrt(2) 1/sqrt(3) 1/sqrt(6); 0 1/sqrt(3) -2/sqrt(6); 1/sqrt(2) 1/sqrt(3) 1/sqrt(6)]\n",
    "T*X[:,1]"
   ]
  },
  {
   "cell_type": "code",
   "execution_count": 11,
   "metadata": {
    "collapsed": false
   },
   "outputs": [
    {
     "data": {
      "text/plain": [
       "3×3 Array{Int64,2}:\n",
       " 3  0  0\n",
       " 1  1  1\n",
       " 2  2  2"
      ]
     },
     "execution_count": 11,
     "metadata": {},
     "output_type": "execute_result"
    }
   ],
   "source": [
    "X"
   ]
  },
  {
   "cell_type": "code",
   "execution_count": 13,
   "metadata": {
    "collapsed": false
   },
   "outputs": [
    {
     "ename": "LoadError",
     "evalue": "UndefVarError: Y not defined",
     "output_type": "error",
     "traceback": [
      "UndefVarError: Y not defined",
      ""
     ]
    }
   ],
   "source": [
    "T = [1/sqrt(2) 1/sqrt(3) 1/sqrt(6); 0 1/sqrt(3) -2/sqrt(6); 1/sqrt(2) 1/sqrt(3) 1/sqrt(6)]\n",
    "Y[:,1] = T*X[:,1]"
   ]
  },
  {
   "cell_type": "code",
   "execution_count": 14,
   "metadata": {
    "collapsed": false
   },
   "outputs": [
    {
     "data": {
      "text/plain": [
       "3×3 Array{Float64,2}:\n",
       "  3.51517   1.39385   1.39385\n",
       " -1.05564  -1.05564  -1.05564\n",
       "  3.51517   1.39385   1.39385"
      ]
     },
     "execution_count": 14,
     "metadata": {},
     "output_type": "execute_result"
    }
   ],
   "source": [
    "index = length(X[1,:])\n",
    "T = [1/sqrt(2) 1/sqrt(3) 1/sqrt(6); 0 1/sqrt(3) -2/sqrt(6); 1/sqrt(2) 1/sqrt(3) 1/sqrt(6)]\n",
    "Y = zeros(3, index)\n",
    "for i=1:index\n",
    "    Y[:,i]= T*X[:,i]\n",
    "end\n",
    "Y"
   ]
  },
  {
   "cell_type": "code",
   "execution_count": 2,
   "metadata": {
    "collapsed": false
   },
   "outputs": [
    {
     "name": "stderr",
     "output_type": "stream",
     "text": [
      "WARNING: 'gpaw' Python module cannot be imported: JuLIP.DFT disabled\n",
      "WARNING: JuLIP.Visualise did not import correctly, probably because\n",
      "`imolecule` is not correctly installed.\n"
     ]
    }
   ],
   "source": [
    "using PyPlot\n",
    "using JuLIP\n",
    "using JuLIP.ASE, JuLIP.Potentials, JuLIP.Constraints\n",
    "using MaterialsScienceTools.Elasticity: elastic_moduli, voigt_moduli, fourth_order_basis, sextic_roots, A_coefficients, D_coefficients\n"
   ]
  },
  {
   "cell_type": "code",
   "execution_count": 58,
   "metadata": {
    "collapsed": false
   },
   "outputs": [
    {
     "data": {
      "image/png": "[encoded data removed]",
      "text/plain": [
       "PyPlot.Figure(PyObject <matplotlib.figure.Figure object at 0x7fec8eda0e10>)"
      ]
     },
     "metadata": {},
     "output_type": "display_data"
    },
    {
     "data": {
      "text/plain": [
       "1-element Array{Any,1}:\n",
       " PyObject <matplotlib.lines.Line2D object at 0x7fec8ed95b90>"
      ]
     },
     "execution_count": 58,
     "metadata": {},
     "output_type": "execute_result"
    }
   ],
   "source": [
    "atv = bulk(\"Al\", cubic=true) *10\n",
    "X = positions(atv) |> mat\n",
    "x, y, z = X[1,:], X[2,:], X[3,:] \n",
    "#I0 = find(X[3,:] .== 0)\n",
    "#I1 = find(1.5 .> X[3,:] .> 0)\n",
    "#I2 = find(3 .> X[3,:] .> 1.6)\n",
    "#plot(x[I0], y[I0], \"b.\", markersize=20)\n",
    "#plot(x[I1], y[I1], \"g.\", markersize=20)\n",
    "#plot(x[I2], y[I2], \"r.\", markersize=20)\n",
    "Tr = 1/sqrt(6)*[-sqrt(3) sqrt(3) 0; -sqrt(2) -sqrt(2) sqrt(2); 1 1 2]\n",
    "index = length(X[1,:])\n",
    "Y = zeros(3, index)\n",
    "for i=1:index\n",
    "    Y[:,i]= Tr*X[:,i]\n",
    "    #print(Y[:,i])\n",
    "end\n",
    "set_positions!(atv, Y)\n",
    "Z = positions(atv) |> mat\n",
    "u, v, w = Z[1,:], Z[2,:], Z[3,:] \n",
    "I0 = find(13.45 .> Z[3,:] .> 13.2)\n",
    "I1 = find(14.55 .> Z[3,:] .> 14.3)\n",
    "I2 = find(15.65 .> Z[3,:] .> 15.4)\n",
    "I3 = find(12.35 .> Z[3,:] .> 12.1)\n",
    "#I4 = find(16.75 .> Z[3,:] .> 16.5)\n",
    "I4 = find(15.75 .> Z[3,:] .> 15.5)\n",
    "#plot(u[I0], v[I0], \"b.\", markersize=20)\n",
    "#plot(u[I1], v[I1], \"g.\", markersize=20)\n",
    "#plot(u[I2], v[I2], \"r.\", markersize=20)\n",
    "#plot(u[I3], v[I3], \"y.\", markersize=20)\n",
    "plot(u[I4], v[I4], \"m.\", markersize=20)"
   ]
  },
  {
   "cell_type": "code",
   "execution_count": 20,
   "metadata": {
    "collapsed": false
   },
   "outputs": [
    {
     "data": {
      "image/png": "[encoded data removed]",
      "text/plain": [
       "PyPlot.Figure(PyObject <matplotlib.figure.Figure object at 0x7f4f59b84490>)"
      ]
     },
     "metadata": {},
     "output_type": "display_data"
    },
    {
     "data": {
      "text/plain": [
       "1-element Array{Any,1}:\n",
       " PyObject <matplotlib.lines.Line2D object at 0x7f4f59b00a10>"
      ]
     },
     "execution_count": 20,
     "metadata": {},
     "output_type": "execute_result"
    }
   ],
   "source": [
    "atv = bulk(\"Si\", cubic=true) *10\n",
    "X = positions(atv) |> mat\n",
    "x, y, z = X[1,:], X[2,:], X[3,:] \n",
    "#I0 = find(X[3,:] .== 0)\n",
    "#I1 = find(1.5 .> X[3,:] .> 0)\n",
    "#I2 = find(3 .> X[3,:] .> 1.6)\n",
    "#plot(x[I0], y[I0], \"b.\", markersize=20)\n",
    "#plot(x[I1], y[I1], \"g.\", markersize=20)\n",
    "#plot(x[I2], y[I2], \"r.\", markersize=20)\n",
    "Tr = 1/sqrt(6)*[-sqrt(3) sqrt(3) 0; -sqrt(2) -sqrt(2) sqrt(2); 1 1 2]\n",
    "index = length(X[1,:])\n",
    "Y = zeros(3, index)\n",
    "for i=1:index\n",
    "    Y[:,i]= Tr*X[:,i]\n",
    "    #print(Y[:,i])\n",
    "end\n",
    "set_positions!(atv, Y)\n",
    "Z = positions(atv) |> mat\n",
    "u, v, w = Z[1,:], Z[2,:], Z[3,:] \n",
    "I0 = find(13.45 .> Z[3,:] .> 13.2)\n",
    "I1 = find(19.1 .> Z[3,:] .> 17.8)\n",
    "I2 = find(17.8 .> Z[3,:] .> 16.8)\n",
    "I3 = find(16.8 .> Z[3,:] .> 15.6)\n",
    "#I4 = find(16.75 .> Z[3,:] .> 16.5)\n",
    "I4 = find(15.6 .> Z[3,:] .> 15.513)\n",
    "#plot(u[I0], v[I0], \"b.\", markersize=20)\n",
    "plot(u[I1], v[I1], \"g.\", markersize=10)\n",
    "plot(u[I2], v[I2], \"r.\", markersize=10)\n",
    "#plot(u[I3], v[I3], \"y.\", markersize=10)\n",
    "#plot(u[I4], v[I4], \"m.\", markersize=10)"
   ]
  },
  {
   "cell_type": "code",
   "execution_count": 29,
   "metadata": {
    "collapsed": false
   },
   "outputs": [
    {
     "data": {
      "image/png": "[encoded data removed]",
      "text/plain": [
       "PyPlot.Figure(PyObject <matplotlib.figure.Figure object at 0x7f4f597d6e90>)"
      ]
     },
     "metadata": {},
     "output_type": "display_data"
    },
    {
     "data": {
      "text/plain": [
       "1-element Array{Any,1}:\n",
       " PyObject <matplotlib.lines.Line2D object at 0x7f4f59be08d0>"
      ]
     },
     "execution_count": 29,
     "metadata": {},
     "output_type": "execute_result"
    }
   ],
   "source": [
    "atv = bulk(\"Si\", cubic=true) *10\n",
    "X = positions(atv) |> mat\n",
    "x, y, z = X[1,:], X[2,:], X[3,:] \n",
    "#I0 = find(X[3,:] .== 0)\n",
    "#I1 = find(1.5 .> X[3,:] .> 0)\n",
    "#I2 = find(3 .> X[3,:] .> 1.6)\n",
    "#plot(x[I0], y[I0], \"b.\", markersize=20)\n",
    "#plot(x[I1], y[I1], \"g.\", markersize=20)\n",
    "#plot(x[I2], y[I2], \"r.\", markersize=20)\n",
    "Tr = [1/sqrt(2) -1/sqrt(2) 0; 0 0 1; 1/sqrt(2) 1/sqrt(2) 0]\n",
    "index = length(X[1,:])\n",
    "Y = zeros(3, index)\n",
    "for i=1:index\n",
    "    Y[:,i]= Tr*X[:,i]\n",
    "    #print(Y[:,i])\n",
    "end\n",
    "set_positions!(atv, Y)\n",
    "Z = positions(atv) |> mat\n",
    "u, v, w = Z[1,:], Z[2,:], Z[3,:] \n",
    "I0 = find(13.45 .> Z[3,:] .> 13.2)\n",
    "I1 = find(19.5 .> Z[3,:] .> 17.8)\n",
    "I2 = find(17.8 .> Z[3,:] .> 17.2)\n",
    "I3 = find(21.8 .> Z[3,:] .> 19.5)\n",
    "#I4 = find(16.75 .> Z[3,:] .> 16.5)\n",
    "I4 = find(15.6 .> Z[3,:] .> 15.513)\n",
    "#plot(u[I0], v[I0], \"b.\", markersize=20)\n",
    "plot(u[I1], v[I1], \"g.\", markersize=10)\n",
    "plot(u[I2], v[I2], \"r.\", markersize=10)\n",
    "plot(u[I3], v[I3], \"y.\", markersize=10)\n",
    "#plot(u[I4], v[I4], \"m.\", markersize=10)"
   ]
  },
  {
   "cell_type": "code",
   "execution_count": null,
   "metadata": {
    "collapsed": true
   },
   "outputs": [],
   "source": []
  }
 ],
 "metadata": {
  "anaconda-cloud": {},
  "kernelspec": {
   "display_name": "Julia 0.5.0",
   "language": "julia",
   "name": "julia-0.5"
  },
  "language_info": {
   "file_extension": ".jl",
   "mimetype": "application/julia",
   "name": "julia",
   "version": "0.5.0"
  }
 },
 "nbformat": 4,
 "nbformat_minor": 1
}
