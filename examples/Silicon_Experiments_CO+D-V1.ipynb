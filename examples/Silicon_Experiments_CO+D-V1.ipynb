{
 "cells": [
  {
   "cell_type": "code",
   "execution_count": 20,
   "metadata": {
    "collapsed": false
   },
   "outputs": [
    {
     "name": "stderr",
     "output_type": "stream",
     "text": [
      "WARNING: replacing module MaterialsScienceTools\n",
      "WARNING: Method definition angle(Any, Any) in module BBS at /Users/ortner/.julia/v0.5/MaterialsScienceTools/src/bbs.jl:18 overwritten in module BBS at /Users/ortner/.julia/v0.5/MaterialsScienceTools/src/bbs.jl:18.\n"
     ]
    }
   ],
   "source": [
    "using PyPlot\n",
    "using JuLIP\n",
    "using JuLIP.ASE, JuLIP.Potentials, JuLIP.Constraints \n",
    "import ForwardDiff\n",
    "reload(\"MaterialsScienceTools\")"
   ]
  },
  {
   "cell_type": "code",
   "execution_count": 21,
   "metadata": {
    "collapsed": false
   },
   "outputs": [
    {
     "data": {
      "text/plain": [
       "sw_eq"
      ]
     },
     "execution_count": 21,
     "metadata": {},
     "output_type": "execute_result"
    }
   ],
   "source": [
    "\"a fully equilibrated SW potential\"\n",
    "function sw_eq()\n",
    "    T(σ, at) = trace(stress(StillingerWeber(σ=σ), at))\n",
    "    at = JuLIP.ASE.bulk(\"Si\", pbc=true)\n",
    "    r0 = 2.09474\n",
    "    r1 = r0 - 0.1 \n",
    "    s0, s1 = T(r0, at), T(r1, at)\n",
    "    while (abs(s1) > 1e-8) && abs(r0 - r1) > 1e-8\n",
    "        rnew = (r0 * s1 - r1 * s0) / (s1 - s0)\n",
    "        r0, r1 = r1, rnew\n",
    "        s0, s1 = s1, T(rnew, at)\n",
    "    end\n",
    "#     @show r1\n",
    "    return StillingerWeber(σ=r1)\n",
    "end \n",
    "\n",
    "# # quick test code to confirm that sw_eq() really produces a stress free state with no internal forces\n",
    "# V = sw_eq()\n",
    "# at = JuLIP.ASE.bulk(\"Si\", cubic=true, pbc=true)\n",
    "# @show vecnorm(stress(V, at), Inf), maximum(norm.(forces(V, at)))\n"
   ]
  },
  {
   "cell_type": "code",
   "execution_count": 22,
   "metadata": {
    "collapsed": false
   },
   "outputs": [
    {
     "name": "stderr",
     "output_type": "stream",
     "text": [
      "WARNING: replacing module MaterialsScienceTools\n",
      "WARNING: Method definition angle(Any, Any) in module BBS at /Users/ortner/.julia/v0.5/MaterialsScienceTools/src/bbs.jl:18 overwritten in module BBS at /Users/ortner/.julia/v0.5/MaterialsScienceTools/src/bbs.jl:18.\n"
     ]
    },
    {
     "data": {
      "text/plain": [
       "dists (generic function with 1 method)"
      ]
     },
     "execution_count": 22,
     "metadata": {},
     "output_type": "execute_result"
    }
   ],
   "source": [
    "reload(\"MaterialsScienceTools\")\n",
    "\n",
    "function si_plane(R)\n",
    "    @assert isodd(R)\n",
    "    atu, b, xcore, a = MaterialsScienceTools.Dislocations_Silicon_hard_110.fcc_edge_plane(\"Si\")\n",
    "    xcore = [0.0, 0.625 * a, 0.0]\n",
    "    at = atu * (R, R, 1)\n",
    "    set_pbc!(at, (false, false, true))\n",
    "    b = b[1] \n",
    "    X = positions(at) |> mat \n",
    "    X = vecs(X)\n",
    "    xcore = X[length(X) ÷ 2+1] + xcore\n",
    "    return at, b, xcore \n",
    "end \n",
    "\n",
    "function layers(at)\n",
    "    dz = 1/(2*√2) * ( bulk(\"Si\", cubic=true) |> defm )[1,1]\n",
    "    X = positions(at) |> mat\n",
    "    x, y, z = X[1,:], X[2,:], X[3,:] \n",
    "    I0 = find(z .<= 0.5*dz)\n",
    "    I1 = find(0.5*dz .< z .<= 1.5*dz)\n",
    "    I2 = find(1.5*dz .< z .<= 2.5*dz)\n",
    "    I3 = find(z .> 2.5*dz)\n",
    "    return [x[I0]'; y[I0]'], [x[I1]'; y[I1]'], [x[I2]'; y[I2]'], [x[I3]'; y[I3]']\n",
    "end \n",
    "\n",
    "function plot_layers(at, x0=nothing)\n",
    "    X0, X1, X2, X3 = layers(at)\n",
    "    plot(X0[1,:], X0[2,:], \"b.\", markersize=8)\n",
    "    plot(X1[1,:], X1[2,:], \"g.\", markersize=8)\n",
    "    plot(X2[1,:], X2[2,:], \"r.\", markersize=8)\n",
    "    plot(X3[1,:], X3[2,:], \"y.\", markersize=8)\n",
    "    if x0 != nothing \n",
    "        plot([x0[1]], [x0[2]], \"r.\", markersize=10)\n",
    "    end \n",
    "end \n",
    "\n",
    "\n",
    "dists(at, x0) = [norm(x - x0) for x in positions(at)]\n"
   ]
  },
  {
   "cell_type": "code",
   "execution_count": 23,
   "metadata": {
    "collapsed": false
   },
   "outputs": [
    {
     "data": {
      "image/png": "[encoded data removed]",
      "text/plain": [
       "PyPlot.Figure(PyObject <matplotlib.figure.Figure object at 0x32750c2d0>)"
      ]
     },
     "metadata": {},
     "output_type": "display_data"
    },
    {
     "data": {
      "text/plain": [
       "1-element Array{Any,1}:\n",
       " PyObject <matplotlib.lines.Line2D object at 0x3278b5cd0>"
      ]
     },
     "execution_count": 23,
     "metadata": {},
     "output_type": "execute_result"
    }
   ],
   "source": [
    "at, b, x0 = si_plane(9)\n",
    "figure(figsize=(5,7))\n",
    "plot_layers(at, x0)\n"
   ]
  },
  {
   "cell_type": "code",
   "execution_count": null,
   "metadata": {
    "collapsed": false
   },
   "outputs": [],
   "source": []
  },
  {
   "cell_type": "code",
   "execution_count": 24,
   "metadata": {
    "collapsed": false
   },
   "outputs": [
    {
     "ename": "LoadError",
     "evalue": "invalid redefinition of constant f",
     "output_type": "error",
     "traceback": [
      "invalid redefinition of constant f",
      ""
     ]
    }
   ],
   "source": [
    "# decay of forces without equilibrating the shifts\n",
    "at, _, _ = si_plane(9)\n",
    "calc = sw_eq()\n",
    "x0 = JVecF([-2.0, -2.0, 0.0])\n",
    "u = x -> 0.4 * [(x-x0)[1:2]/norm((x-x0)[1:2]); 0.0]\n",
    "X = [ x + u(x) for x in positions(at) ]\n",
    "set_positions!(at, X)\n",
    "f = norm.(forces(calc, at))\n",
    "r = dists(at, x0)\n",
    "loglog(r, f, \"r.\", markersize=2)\n",
    "loglog(r, 10*r.^(-2), \"g.\", r, 10*r.^(-1), \"b.\", markersize=1)\n"
   ]
  },
  {
   "cell_type": "code",
   "execution_count": null,
   "metadata": {
    "collapsed": true
   },
   "outputs": [],
   "source": []
  },
  {
   "cell_type": "code",
   "execution_count": 25,
   "metadata": {
    "collapsed": false
   },
   "outputs": [],
   "source": [
    "\n",
    "function DpWcb(F, p, at = bulk(\"Si\", pbc=true), sw = sw_eq())\n",
    "    set_defm!(at, F)\n",
    "    X = positions(at)\n",
    "    X[2] = X[1] + p\n",
    "    set_positions!(at, X)\n",
    "    return -forces(sw, at)[2]\n",
    "end\n",
    "\n",
    "\n",
    "function DpDpWcb()\n",
    "    at = bulk(\"Si\", pbc=true)\n",
    "    sw = sw_eq()\n",
    "    F0 = defm(at)\n",
    "    p0 = positions(at)[2] |> Vector\n",
    "    h = 1e-5\n",
    "    DpDpW = zeros(3, 3)\n",
    "    for i = 1:3 \n",
    "        p0[i] += h \n",
    "        DpW1 = DpWcb(F0, JVecF(p0), at, sw)\n",
    "        p0[i] -= 2*h \n",
    "        DpW2 = DpWcb(F0, JVecF(p0), at, sw)\n",
    "        p0[i] += h\n",
    "        DpDpW[:, i] = (DpW1 - DpW2) / (2*h)\n",
    "    end \n",
    "    return 0.5 * (DpDpW + DpDpW')\n",
    "end\n",
    "\n",
    "\n",
    "type WcbQuad\n",
    "    DpDpW::Matrix{Float64}\n",
    "    DpDpW_inv::Matrix{Float64}\n",
    "    at::AbstractAtoms\n",
    "    sw::StillingerWeber\n",
    "end\n",
    "\n",
    "function WcbQuad()\n",
    "    DpDpW = DpDpWcb()\n",
    "    return WcbQuad(DpDpW, pinv(DpDpW), bulk(\"Si\", pbc=true), sw_eq())\n",
    "end \n",
    "\n",
    "function (W::WcbQuad)(F)\n",
    "    p0 = positions(W.at)[2]\n",
    "    p1 = p0 - W.DpDpW_inv * DpWcb(F, p0, W.at, W.sw)\n",
    "    p2 = p1 - W.DpDpW_inv * DpWcb(F, p1, W.at, W.sw)\n",
    "    return p2\n",
    "end\n",
    "\n",
    "# # this is probably a test of WcbQuad, which I don't remember at all \n",
    "\n",
    "# at = bulk(\"Si\", cubic=false, pbc = true)\n",
    "# sw = sw_eq()\n",
    "# @show maxnorm(forces(sw, at))\n",
    "# F = defm(at)\n",
    "# G = rand(JMatF)\n",
    "# for p = 2:6\n",
    "#     h = 0.1^p \n",
    "#     set_defm!(at, F + h * G, updatepositions=true)\n",
    "#     @show maxnorm(forces(sw, at))\n",
    "# end \n",
    "#     ;\n",
    "# # this is probably another test of WcbQuad, which I don't remember at all \n",
    "\n",
    "# at = bulk(\"Si\", cubic=false, pbc = true)\n",
    "# sw = sw_eq()\n",
    "# @show maxnorm(forces(sw, at))\n",
    "# F0 = defm(at)\n",
    "# G = rand(JMatF)\n",
    "# W = WcbQuad()\n",
    "# for q = 2:6\n",
    "#     h = 0.1^q\n",
    "#     F = F0 + h * G\n",
    "#     ph = W(F)\n",
    "#     @show ph\n",
    "#     set_defm!(at, F, updatepositions=false)\n",
    "#     X = positions(at)\n",
    "#     X[2] = ph \n",
    "#     set_positions!(at, X)\n",
    "#     @show maxnorm(forces(sw, at))\n",
    "# end \n",
    "# ;\n",
    ";"
   ]
  },
  {
   "cell_type": "code",
   "execution_count": null,
   "metadata": {
    "collapsed": true
   },
   "outputs": [],
   "source": []
  },
  {
   "cell_type": "code",
   "execution_count": null,
   "metadata": {
    "collapsed": true
   },
   "outputs": [],
   "source": []
  },
  {
   "cell_type": "code",
   "execution_count": 26,
   "metadata": {
    "collapsed": false
   },
   "outputs": [
    {
     "data": {
      "text/plain": [
       "ml_displacement! (generic function with 1 method)"
      ]
     },
     "execution_count": 26,
     "metadata": {},
     "output_type": "execute_result"
    }
   ],
   "source": [
    "# we now want to take the following example but apply \n",
    "# the minimised shifts\n",
    "\n",
    "# at, _, _ = si_plane(9)\n",
    "# calc = sw_eq()\n",
    "# x0 = JVecF([-2.0, -2.0, 0.0])\n",
    "# X = [ x + 0.4 * [((x-x0)/norm(x-x0))[1:2]; 0.0] for x in positions(at)]\n",
    "# set_positions!(at, X)\n",
    "\n",
    "\"\"\"\n",
    "a function that identifies multi-lattice structure in 2 layers of bulk-Si\n",
    "(yes - very restrictive but will do for now!)\n",
    "\"\"\"\n",
    "function si_multilattice(at)\n",
    "    J0 = Int[] \n",
    "    J1 = Int[]\n",
    "    Jdel = Int[]\n",
    "    for (i, j, r, R, _) in sites(at, rnn(\"Si\")+0.1)\n",
    "        foundneig = false \n",
    "        for (jj, RR) in zip(j, R)\n",
    "            if (RR[1] == 0.0) && (abs(RR[2] - 1.3575) < 1e-3)      \n",
    "                # neighbour above >> make (i, jj) a site\n",
    "                push!(J0, i)\n",
    "                push!(J1, jj)\n",
    "                foundneig = true\n",
    "                break\n",
    "            elseif (RR[1] == 0.0) && (abs(RR[2] + 1.3575) < 1e-3)  \n",
    "                # neighbour below >> (jj, i) is a site that will be pushed when i ↔ jj\n",
    "                foundneig = true\n",
    "                break\n",
    "            end\n",
    "        end\n",
    "        if !foundneig\n",
    "            # i has no neighbour above or below >> probably we just get rid of it\n",
    "            push!(Jdel, i)\n",
    "        end\n",
    "    end\n",
    "    return J0, J1, Jdel \n",
    "end \n",
    "\n",
    "# # testing si_multilattice\n",
    "\n",
    "# at, _, _ = MaterialsScienceTools.Dislocations_Silicon_hard_110.fcc_edge_plane(\"Si\")\n",
    "# at = at * (7, 3, 1)\n",
    "# I0, I1, Idel = si_multilattice(at)\n",
    "# X = positions(at) |> mat \n",
    "\n",
    "# figure(figsize=(5,3))\n",
    "# plot_layers(at)\n",
    "# plot(X[1,I0], X[2,I0],\"m+\")\n",
    "# plot(X[1,I1], X[2,I1],\"c+\")\n",
    "# plot(X[1,Idel], X[3,Idel], \"yx\")\n",
    "\n",
    "\n",
    "\n",
    "\n",
    "\n",
    "function symml_displacement!(at, u)\n",
    "    I0, I1, Idel = si_multilattice(at)\n",
    "    @assert isempty(Idel)  # if Idel is not empty then (for now) we don't know what to do \n",
    "    X = positions(at)\n",
    "    W = WcbQuad()\n",
    "    F0 = defm(W.at)\n",
    "    p0 = W(F0)\n",
    "    # transformation matrices\n",
    "    Tp = [0 1/√2  -1/√2; 1 0 0; 0 1/√2 1/√2]\n",
    "    Tm = diagm([1,1,-1]) * Tp\n",
    "    \n",
    "    for (i0, i1) in zip(I0, I1)   # each pair (i0, i1) corresponds to a ML lattice site\n",
    "        x0, x1 = X[i0], X[i1]\n",
    "        x1[3] > x0[3] ? T = Tp : T = Tm\n",
    "        x̄ = 0.5 * (x0 + x1)   # centre of mass of the bond\n",
    "        U, ∇U = u(x̄)          # displacement and displacement gradient\n",
    "        F = T' * (I + ∇U) * T\n",
    "        q = T * (W(F * F0) - p0)    # construct the shift corresponding to F = Id + ∇U\n",
    "        X[i0], X[i1] = x0 + U - 0.5 * q, x1 + U + 0.5 * q\n",
    "    end \n",
    "    set_positions!(at, X)\n",
    "    return at \n",
    "end \n",
    "\n",
    "function ml_displacement!(at, u)\n",
    "    I0, I1, Idel = si_multilattice(at)\n",
    "    @assert isempty(Idel)  # if Idel is not empty then (for now) we don't know what to do \n",
    "    X = positions(at)\n",
    "    W = WcbQuad()\n",
    "    \n",
    "    # transformation matrices\n",
    "    Tp = [0 1/√2  -1/√2; 1 0 0; 0 1/√2 1/√2]\n",
    "    Tm = diagm([1,1,-1]) * Tp\n",
    "\n",
    "    F0 = defm(W.at)  # get reference information\n",
    "    p0 = W(F0)\n",
    "    \n",
    "    for (i0, i1) in zip(I0, I1)   # each pair (i0, i1) corresponds to a ML lattice site\n",
    "        x0, x1 = X[i0], X[i1]\n",
    "        x1[3] > x0[3] ? T = Tp : T = Tm\n",
    "        U, ∇U = u(x0)            # displacement and displacement gradient\n",
    "        F = T' * (I + ∇U) * T\n",
    "        q = T * (W(F * F0) - p0)   # construct the shift corresponding to F = Id + ∇U\n",
    "        X[i0], X[i1] = x0 + U, x1 + U + q\n",
    "    end \n",
    "    set_positions!(at, X)\n",
    "    return at \n",
    "end \n",
    "\n"
   ]
  },
  {
   "cell_type": "code",
   "execution_count": 27,
   "metadata": {
    "collapsed": false
   },
   "outputs": [
    {
     "ename": "LoadError",
     "evalue": "invalid redefinition of constant f",
     "output_type": "error",
     "traceback": [
      "invalid redefinition of constant f",
      ""
     ]
    }
   ],
   "source": [
    "\n",
    "x0 = JVecF([-2.0, -2.0, 0.0])\n",
    "u = x -> 0.4 * [(x-x0)[1:2]/norm((x-x0)[1:2]); 0.0]\n",
    "# u = x -> zeros(3)\n",
    "∇u = x -> ForwardDiff.jacobian(u, x)\n",
    "\n",
    "calc = sw_eq()\n",
    "at, _, _ = si_plane(15)\n",
    "ml_displacement!(at, x -> (u(x), ∇u(x)))\n",
    "f = forces(calc, at)\n",
    "at, _, _ = si_plane(15)\n",
    "symml_displacement!(at, x -> (u(x), ∇u(x)))\n",
    "fsym = forces(calc, at)\n",
    "\n",
    "r0 = rnn(\"Si\")\n",
    "X = positions(at) |> mat \n",
    "x, y = X[1,:], X[2,:]\n",
    "xL, xR = extrema(x); yL, yR = extrema(y)\n",
    "Iint = find( (xL+2*r0 .< x .< xR - 2*r0) .* (yL+2*r0 .< y .< yR - 2*r0) )\n",
    "\n",
    "\n",
    "figure()\n",
    "subplot(1,2,1)\n",
    "plot_layers(at)\n",
    "subplot(1,2,2)\n",
    "f = norm.(f)[Iint]\n",
    "fsym = norm.(fsym)[Iint]\n",
    "r = dists(at, x0)[Iint]\n",
    "loglog(r, f, \"r.\", r, fsym, \"m.\", markersize=2)\n",
    "loglog(r, 50*r.^(-2), \"g.\", r, 10*r.^(-1), \"b.\", markersize=1)\n",
    "legend((\"wo sym\", \"with sym\", \"r^{-2}\", \"r^{-1}\"))\n"
   ]
  },
  {
   "cell_type": "code",
   "execution_count": null,
   "metadata": {
    "collapsed": true
   },
   "outputs": [],
   "source": []
  },
  {
   "cell_type": "code",
   "execution_count": 39,
   "metadata": {
    "collapsed": false
   },
   "outputs": [
    {
     "name": "stderr",
     "output_type": "stream",
     "text": [
      "WARNING: replacing module Edge\n"
     ]
    },
    {
     "data": {
      "text/plain": [
       "Edge"
      ]
     },
     "execution_count": 39,
     "metadata": {},
     "output_type": "execute_result"
    }
   ],
   "source": [
    "# * `u_edge{T}(x, y, b, C::Array{T,N}) -> ux, uy`\n",
    "# * `C` can be either 3 x 3 x 3 x 3 (`elastic_moduli`) or 6 x 6 (`voigt_moduli`)\n",
    "# This function computes the anisotropic CLE solution for an in-plane\n",
    "# edge dislocation. The elastic moduli are taken to within `TOL` accuracy (\n",
    "#    this is a keyword argument)\n",
    "# \"\"\"\n",
    "\n",
    "module Edge\n",
    "\n",
    "import MaterialsScienceTools, ForwardDiff\n",
    "\n",
    "type EdgeCubic{T1,T2,T3,T4}\n",
    "    A::Matrix{T1}\n",
    "    D::Vector{T2}\n",
    "    p::Vector{T3}\n",
    "    x0::T4\n",
    "end \n",
    "\n",
    "function EdgeCubic{T}(b::Real, Cv::Array{T,2}, a::Real)\n",
    "    # clean up the tensor\n",
    "   test1 = Cv[1,1]\n",
    "   test2 = Cv[1,2]\n",
    "   test3 = Cv[6,6]\n",
    "   Cv = zeros(6,6)\n",
    "   Cv[1,1] = test1\n",
    "   Cv[1,2] = test2\n",
    "   Cv[6,6] = test3\n",
    "   #Zero out elasticity tensor from any numerical artifacts\n",
    "   Cv[2,2] = Cv[3,3] = Cv[1,1]\n",
    "   Cv[1,3] = Cv[2,3] = Cv[2,1] = Cv[3,1] = Cv[3,2] = Cv[1,2]\n",
    "   Cv[4,4] = Cv[5,5] = Cv[6,6]\n",
    "\n",
    "   # parameters needed for the Hirth/Lothe solution\n",
    "   bar = sqrt( .5*Cv[1,1]*(Cv[1,1] +Cv[1,2] + 2.0*Cv[4,4]) )\n",
    "   C = ( (bar + Cv[1,2])*(bar - Cv[1,2] - 2.0*Cv[4,4] )  )/(bar*Cv[4,4])\n",
    "   lem = (bar/Cv[1,1])^(1/2)\n",
    "   delta2 = sqrt(-C)\n",
    "   delta1 = sqrt(Complex(C+4))\n",
    "    \n",
    "   # Now compute using Hirth and Lothe which should be valid for 110 dislocation\n",
    "   # This should use K instead of Cv\n",
    "   # Something seems to be either wrong with these formulas or numeric issues are arising\n",
    "   # Skip to general formula using complex logs\n",
    "   K = MaterialsScienceTools.Elasticity_110.fourth_order_basis(Cv,a)\n",
    "   Cvoigt = round(K, 3)\n",
    "\n",
    "   # more parameters\n",
    "   c̄11 = sqrt(K[1,1]*K[2,2])    # (13-106)\n",
    "   lam = (K[1,1]/K[2,2])^(1/4)\n",
    "   ϕ = 0.5 * acos( (K[1,2]^2 + 2*K[1,2]*K[6,6] - c̄11^2) / (2.0*c̄11*K[6,6]) )\n",
    "   apple = - lam*(K[6,6]*exp(im*ϕ) + c̄11*exp(-im*ϕ))/(K[1,2]+K[6,6])\n",
    "   dodo = im*b[1,1]/(2.0*c̄11*sin(2*ϕ))*(K[1,2] - c̄11*exp(2*im*ϕ))\n",
    "\n",
    "   #Should test this against solving the full linear system\n",
    "   A = Complex{Float64}[0 1 1; 0 apple -apple; 0 0 0]\n",
    "   #Set up for burgers vector in x1 direction only\n",
    "   D = zeros(6,1)\n",
    "   D = [ 0; 0; real(dodo); imag(dodo); -real(dodo); -imag(dodo)]\n",
    "   p = MaterialsScienceTools.Elasticity_110.sextic_roots(K)\n",
    "   #Do some funny business with root switching here.  This could be what is screwing things up.\n",
    "   #May have to change the roots elsewhere instead\n",
    "   p[3,1] = -p[2,1]\n",
    "    \n",
    "   return EdgeCubic(A, D, p, zeros(2))\n",
    "end\n",
    "\n",
    "function evaluate(U::EdgeCubic, X::AbstractVector)\n",
    "    x = X[1] - U.x0[1]\n",
    "    y = X[2] - U.x0[2]\n",
    "    A, D, p = U.A, U.D, U.p\n",
    "   ux = real( im/(2*π)*(A[1,2]*(D[3] + D[4]*im)*log(x+p[2]*y) + A[1,3]*(D[5] + D[6]*im)*log(x+p[3]*y)   ))\n",
    "   uy = real( im/(2*π)*(A[2,2]*(D[3] + D[4]*im)*log(x+p[2]*y) + A[2,3]*(D[5] + D[6]*im)*log(x+p[3]*y)   ))\n",
    "   return [ux, uy, 0.0]\n",
    "end\n",
    "\n",
    "function jacobian(U::EdgeCubic, X::AbstractVector) \n",
    "    x = X[1] - U.x0[1]\n",
    "    y = X[2] - U.x0[2]\n",
    "    A, D, p = U.A, U.D, U.p\n",
    "    uxx = real( im/(2*π)*(A[1,2]*(D[3] + D[4]*im)/(x+p[2]*y) + A[1,3]*(D[5] + D[6]*im)/(x+p[3]*y) ) )\n",
    "    uxy = real( im/(2*π)*(A[1,2]*(D[3] + D[4]*im)*p[2]/(x+p[2]*y) + A[1,3]*(D[5] + D[6]*im)*p[3]/(x+p[3]*y) ) )\n",
    "    uyx = real( im/(2*π)*(A[2,2]*(D[3] + D[4]*im)/(x+p[2]*y) + A[2,3]*(D[5] + D[6]*im)/(x+p[3]*y)   ))\n",
    "    uyy = real( im/(2*π)*(A[2,2]*(D[3] + D[4]*im)*p[2]/(x+p[2]*y) + A[2,3]*(D[5] + D[6]*im)*p[3]/(x+p[3]*y)   ))    \n",
    "    return [uxx uxy 0.0; uyx uyy 0.0; 0.0 0.0 0.0]\n",
    "end\n",
    "\n",
    "function (U::EdgeCubic)(X::AbstractVector)\n",
    "    return evaluate(U, X), jacobian(U, X)\n",
    "end\n",
    "\n",
    "# x0 = rand(2)\n",
    "# u, ∂u = U(x0)\n",
    "# for p  = 3:10\n",
    "#     h = 0.1^p\n",
    "#     gh = zeros(2,2)\n",
    "#     for i = 1:2\n",
    "#         x0[i] += h\n",
    "#         uh, _ = U(x0)\n",
    "#         gh[:,i] = (uh - u) / h\n",
    "#         x0[i] -= h \n",
    "#     end \n",
    "#     println(\"p = $p: err = \", vecnorm(∂u - gh, Inf))\n",
    "# end \n",
    "\n",
    "end \n",
    "\n",
    "\n",
    "\n"
   ]
  },
  {
   "cell_type": "code",
   "execution_count": 40,
   "metadata": {
    "collapsed": false
   },
   "outputs": [
    {
     "data": {
      "image/png": "[encoded data removed]",
      "text/plain": [
       "PyPlot.Figure(PyObject <matplotlib.figure.Figure object at 0x3278957d0>)"
      ]
     },
     "metadata": {},
     "output_type": "display_data"
    },
    {
     "name": "stderr",
     "output_type": "stream",
     "text": [
      "WARNING: replacing module MaterialsScienceTools\n",
      "WARNING: Method definition angle(Any, Any) in module BBS at /Users/ortner/.julia/v0.5/MaterialsScienceTools/src/bbs.jl:18 overwritten in module BBS at /Users/ortner/.julia/v0.5/MaterialsScienceTools/src/bbs.jl:18.\n"
     ]
    }
   ],
   "source": [
    "reload(\"MaterialsScienceTools\")\n",
    "\n",
    "# DisAl = MaterialsScienceTools.Dislocations_Al_hard_110\n",
    "# at, xcore = DisAl.fcc_edge_geom(\"Al\", 21.1, truncate=false, cle=:anisotropic, calc = calc,zDir=1)\n",
    "\n",
    "\n",
    "# U = Edge.EdgeCubic()\n",
    "\n",
    "# setup undeformed geometry\n",
    "at, b, _ = si_plane(25)\n",
    "a = cell(bulk(\"Si\", cubic=true))[1,1]  # = 5.43\n",
    "\n",
    "# get elastic constants\n",
    "sw = sw_eq()\n",
    "atu = bulk(\"Si\", pbc=true)\n",
    "set_calculator!(atu, sw)\n",
    "Cv = MaterialsScienceTools.Elasticity.voigt_moduli(atu)  # TODO: fix the elastic moduli!!!\n",
    "Cv = round(Cv, 8)\n",
    "\n",
    "# edge solution \n",
    "U = Edge.EdgeCubic(b, Cv, a)\n",
    "U.x0 = [-1.0, -1.0]\n",
    "ml_displacement!(at, U)\n",
    "\n",
    "f = forces(calc, at)\n",
    "# at, _, _ = si_plane(15)\n",
    "# symml_displacement!(at, x -> (u(x), ∇u(x)))\n",
    "# fsym = forces(calc, at)\n",
    "\n",
    "\n",
    "plot_layers(at)"
   ]
  },
  {
   "cell_type": "code",
   "execution_count": null,
   "metadata": {
    "collapsed": true
   },
   "outputs": [],
   "source": []
  },
  {
   "cell_type": "code",
   "execution_count": null,
   "metadata": {
    "collapsed": true
   },
   "outputs": [],
   "source": [
    "# function ulin_edge_isotropic(X, b, ν)\n",
    "#     x, y = X[1,:], X[2,:]\n",
    "#     r² = x.^2 + y.^2\n",
    "#     ux = b/(2*π) * ( angle(x + im*y) + (x .* y) ./ (2*(1-ν) * r²) )\n",
    "#     uy = -b/(2*π) * ( (1-2*ν)/(4*(1-ν)) * log(r²) + - 2 * y.^2 ./ (4*(1-ν) * r²) )\n",
    "#     return [ux'; uy']\n",
    "# end\n",
    "\n",
    "# function si_edge(R) \n",
    "#     at, b, xcore = si_plane(R)\n",
    "#     X = positions(at) |> mat\n",
    "#     X2d = X[1:2,:] .- xcore[1:2]\n",
    "#     U = ulin_edge_isotropic(X2d, b, 0.25)\n",
    "#     X[1:2, :] += U\n",
    "#     set_positions!(at, vecs(X))\n",
    "#     return at, JVecF(xcore)\n",
    "# end \n",
    "\n",
    "# at, x0 = si_edge(31)\n",
    "# calc = sw_eq()\n",
    "# f = norm.(forces(calc, at))\n",
    "# r = dists(at, x0)\n",
    "# loglog(r, f, \"r.\", markersize=2)\n",
    "# loglog(r, 10*r.^(-2), \"g.\", r, 10*r.^(-1), \"b.\", markersize=1)\n",
    "\n",
    "function si_edge_outside(R) \n",
    "    at, b, xcore = si_plane(R)\n",
    "    X = positions(at) |> mat\n",
    "    X2d = X[1:2,:] .+ [2.0, 2.0]\n",
    "    U = ulin_edge_isotropic(X2d, b, 0.25)\n",
    "    X[1:2, :] += U\n",
    "    set_positions!(at, vecs(X))\n",
    "    return at, JVecF([2.0, 2.0, 0.0])\n",
    "end \n",
    "\n",
    "at, x0 = si_edge_outside(13) \n",
    "f = norm.(forces(calc, at))\n",
    "r = dists(at, x0)\n",
    "loglog(r, f, \"r.\", markersize=2)\n",
    "loglog(r, 10*r.^(-2), \"g.\", r, 10*r.^(-1), \"b.\", markersize=1)"
   ]
  }
 ],
 "metadata": {
  "anaconda-cloud": {},
  "kernelspec": {
   "display_name": "Julia 0.5.2-pre",
   "language": "julia",
   "name": "julia-0.5"
  },
  "language_info": {
   "file_extension": ".jl",
   "mimetype": "application/julia",
   "name": "julia",
   "version": "0.5.3"
  }
 },
 "nbformat": 4,
 "nbformat_minor": 0
}
