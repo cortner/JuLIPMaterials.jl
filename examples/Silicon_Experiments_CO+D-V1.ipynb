{
 "cells": [
  {
   "cell_type": "code",
   "execution_count": 14,
   "metadata": {
    "collapsed": false
   },
   "outputs": [
    {
     "name": "stderr",
     "output_type": "stream",
     "text": [
      "WARNING: replacing module MaterialsScienceTools\n",
      "WARNING: Method definition angle(Any, Any) in module BBS at /Users/ortner/.julia/v0.5/MaterialsScienceTools/src/bbs.jl:18 overwritten in module BBS at /Users/ortner/.julia/v0.5/MaterialsScienceTools/src/bbs.jl:18.\n"
     ]
    }
   ],
   "source": [
    "using PyPlot\n",
    "using JuLIP\n",
    "using JuLIP.ASE, JuLIP.Potentials, JuLIP.Constraints \n",
    "reload(\"MaterialsScienceTools\")"
   ]
  },
  {
   "cell_type": "code",
   "execution_count": 15,
   "metadata": {
    "collapsed": false
   },
   "outputs": [
    {
     "name": "stderr",
     "output_type": "stream",
     "text": [
      "WARNING: Method definition sw_eq() in module Main at In[2]:3 overwritten at In[15]:3.\n",
      "\u001b[1m\u001b[31mWARNING: replacing docs for 'sw_eq :: Tuple{}' in module 'Main'.\u001b[0m\n"
     ]
    },
    {
     "data": {
      "text/plain": [
       "sw_eq"
      ]
     },
     "execution_count": 15,
     "metadata": {},
     "output_type": "execute_result"
    }
   ],
   "source": [
    "\"a fully equilibrated SW potential\"\n",
    "function sw_eq()\n",
    "    T(σ, at) = trace(stress(StillingerWeber(σ=σ), at))\n",
    "    at = JuLIP.ASE.bulk(\"Si\", pbc=true)\n",
    "    r0 = 2.09474\n",
    "    r1 = r0 - 0.1 \n",
    "    s0, s1 = T(r0, at), T(r1, at)\n",
    "    while (abs(s1) > 1e-8) && abs(r0 - r1) > 1e-8\n",
    "        rnew = (r0 * s1 - r1 * s0) / (s1 - s0)\n",
    "        r0, r1 = r1, rnew\n",
    "        s0, s1 = s1, T(rnew, at)\n",
    "    end\n",
    "#     @show r1\n",
    "    return StillingerWeber(σ=r1)\n",
    "end \n",
    "\n",
    "# # quick test code to confirm that sw_eq() really produces a stress free state with no internal forces\n",
    "# V = sw_eq()\n",
    "# at = JuLIP.ASE.bulk(\"Si\", cubic=true, pbc=true)\n",
    "# @show vecnorm(stress(V, at), Inf), maximum(norm.(forces(V, at)))\n"
   ]
  },
  {
   "cell_type": "code",
   "execution_count": 72,
   "metadata": {
    "collapsed": false
   },
   "outputs": [
    {
     "name": "stderr",
     "output_type": "stream",
     "text": [
      "WARNING: replacing module MaterialsScienceTools\n",
      "WARNING: Method definition angle(Any, Any) in module BBS at /Users/ortner/.julia/v0.5/MaterialsScienceTools/src/bbs.jl:18 overwritten in module BBS at /Users/ortner/.julia/v0.5/MaterialsScienceTools/src/bbs.jl:18.\n",
      "WARNING: Method definition si_plane(Any) in module Main at In[69]:4 overwritten at In[72]:4.\n",
      "WARNING: Method definition layers(Any) in module Main at In[69]:34 overwritten at In[72]:34.\n",
      "WARNING: Method definition plot_layers(Any) in module Main at In[69]:45 overwritten at In[72]:45.\n",
      "WARNING: Method definition plot_layers(Any, Any) in module Main at In[69]:45 overwritten at In[72]:45.\n",
      "WARNING: Method definition dists(Any, Any) in module Main at In[69]:74 overwritten at In[72]:74.\n"
     ]
    },
    {
     "data": {
      "text/plain": [
       "dists (generic function with 1 method)"
      ]
     },
     "execution_count": 72,
     "metadata": {},
     "output_type": "execute_result"
    }
   ],
   "source": [
    "reload(\"MaterialsScienceTools\")\n",
    "\n",
    "function si_plane(R)\n",
    "    @assert isodd(R)\n",
    "    a = ( bulk(\"Si\", cubic=true) |> defm )[1,1]\n",
    "    \n",
    "    dx = 1/(2*√2)\n",
    "    dy = 1/4\n",
    "    dz = 1/(2*√2)\n",
    "    \n",
    "    X = a * [ JVec(0.0,  0.0,  0.0), JVec(dx, dy  ,  0.0),\n",
    "              JVec(0.0, 3*dy,   dz), JVec(dx, 2*dy,   dz),\n",
    "              JVec(0.0,   dy, 2*dz), JVec(dx,  0.0, 2*dz),\n",
    "              JVec(0.0, 2*dy, 3*dz), JVec(dx, 3*dy, 3*dz) ]\n",
    "    \n",
    "    F = a * diagm([2*dx, 4*dy, 4*dz])\n",
    "\n",
    "    at = ASEAtoms(\"Si8\", X)\n",
    "    set_cell!(at, F)\n",
    "    at = at * (R,R,1)\n",
    "    return at \n",
    "    \n",
    "#     xcore = [0.0, 0.625 * a, 0.0]\n",
    "#     at = atu * (R, R, 1)\n",
    "#     set_pbc!(at, (false, false, true))\n",
    "#     b = b[1] \n",
    "#     X = positions(at) |> mat \n",
    "#     X = vecs(X)\n",
    "#     xcore = X[length(X) ÷ 2+1] + xcore\n",
    "#     return at, b, xcore \n",
    "end \n",
    "\n",
    "function layers(at)\n",
    "    dz = 1/(2*√2) * ( bulk(\"Si\", cubic=true) |> defm )[1,1]\n",
    "    X = positions(at) |> mat\n",
    "    x, y, z = X[1,:], X[2,:], X[3,:] \n",
    "    I0 = find(z .<= 0.5*dz)\n",
    "    I1 = find(0.5*dz .< z .<= 1.5*dz)\n",
    "    I2 = find(1.5*dz .< z .<= 2.5*dz)\n",
    "    I3 = find(z .> 2.5*dz)\n",
    "    return [x[I0]'; y[I0]'], [x[I1]'; y[I1]'], [x[I2]'; y[I2]'], [x[I3]'; y[I3]']\n",
    "end \n",
    "\n",
    "function plot_layers(at, x0=nothing)\n",
    "    X0, X1, X2, X3 = layers(at)\n",
    "    plot(X0[1,:], X0[2,:], \"b.\", markersize=8)\n",
    "    plot(X1[1,:], X1[2,:], \"g.\", markersize=8)\n",
    "    plot(X2[1,:], X2[2,:], \"r.\", markersize=8)\n",
    "    plot(X3[1,:], X3[2,:], \"y.\", markersize=8)\n",
    "    if x0 != nothing \n",
    "        plot([x0[1]], [x0[2]], \"r.\", markersize=10)\n",
    "    end \n",
    "end \n",
    "\n",
    "\n",
    "# function ulin_edge_isotropic(X, b, ν)\n",
    "#     x, y = X[1,:], X[2,:]\n",
    "#     r² = x.^2 + y.^2\n",
    "#     ux = b/(2*π) * ( angle(x + im*y) + (x .* y) ./ (2*(1-ν) * r²) )\n",
    "#     uy = -b/(2*π) * ( (1-2*ν)/(4*(1-ν)) * log(r²) + - 2 * y.^2 ./ (4*(1-ν) * r²) )\n",
    "#     return [ux'; uy']\n",
    "# end\n",
    "\n",
    "# function si_edge(R) \n",
    "#     at, b, xcore = si_plane(R)\n",
    "#     X = positions(at) |> mat\n",
    "#     X2d = X[1:2,:] .- xcore[1:2]\n",
    "#     U = ulin_edge_isotropic(X2d, b, 0.25)\n",
    "#     X[1:2, :] += U\n",
    "#     set_positions!(at, vecs(X))\n",
    "#     return at, JVecF(xcore)\n",
    "# end \n",
    "\n",
    "dists(at, x0) = [norm(x - x0) for x in positions(at)]\n"
   ]
  },
  {
   "cell_type": "code",
   "execution_count": 75,
   "metadata": {
    "collapsed": false
   },
   "outputs": [
    {
     "data": {
      "image/png": "[encoded data removed]",
      "text/plain": [
       "PyPlot.Figure(PyObject <matplotlib.figure.Figure object at 0x32c7ab0d0>)"
      ]
     },
     "metadata": {},
     "output_type": "display_data"
    }
   ],
   "source": [
    "at = si_plane(5)\n",
    "plot_layers(at)   #(X[1,:], X[2,:], \"b.\")"
   ]
  },
  {
   "cell_type": "code",
   "execution_count": 76,
   "metadata": {
    "collapsed": false
   },
   "outputs": [
    {
     "data": {
      "text/html": [
       "<div id=\"molecule_fa5ccb93-7283-408e-8986-3d10ae4adb35\"></div>\n",
       "           <script type=\"text/javascript\">\n",
       "           require.config({baseUrl: '/',\n",
       "                           paths: {imolecule: ['nbextensions/imolecule.min', 'https://rawgit.com/patrickfuller/imolecule/master/imolecule/js/build/imolecule.min']}});\n",
       "           require(['imolecule'], function () {\n",
       "               var $d = $('#molecule_fa5ccb93-7283-408e-8986-3d10ae4adb35');\n",
       "               $d.width(500); $d.height(500);\n",
       "               $d.imolecule = jQuery.extend({}, imolecule);\n",
       "               $d.imolecule.create($d, {drawingType: 'ball and stick',\n",
       "                                        cameraType: 'perspective',\n",
       "                                        shader: 'lambert',\n",
       "                                        showSave: false});\n",
       "               $d.imolecule.addElements({});\n",
       "               $d.imolecule.draw({\"atoms\":[{\"element\":\"Si\",\"location\":[-8.639077,-12.896250,-2.879692]},{\"element\":\"Si\",\"location\":[-6.719282,-11.538750,-2.879692]},{\"element\":\"Si\",\"location\":[-8.639077,-8.823750,-0.959897]},{\"element\":\"Si\",\"location\":[-6.719282,-10.181250,-0.959897]},{\"element\":\"Si\",\"location\":[-8.639077,-11.538750,0.959897]},{\"element\":\"Si\",\"location\":[-6.719282,-12.896250,0.959897]},{\"element\":\"Si\",\"location\":[-8.639077,-10.181250,2.879692]},{\"element\":\"Si\",\"location\":[-6.719282,-8.823750,2.879692]},{\"element\":\"Si\",\"location\":[-8.639077,-7.466250,-2.879692]},{\"element\":\"Si\",\"location\":[-6.719282,-6.108750,-2.879692]},{\"element\":\"Si\",\"location\":[-8.639077,-3.393750,-0.959897]},{\"element\":\"Si\",\"location\":[-6.719282,-4.751250,-0.959897]},{\"element\":\"Si\",\"location\":[-8.639077,-6.108750,0.959897]},{\"element\":\"Si\",\"location\":[-6.719282,-7.466250,0.959897]},{\"element\":\"Si\",\"location\":[-8.639077,-4.751250,2.879692]},{\"element\":\"Si\",\"location\":[-6.719282,-3.393750,2.879692]},{\"element\":\"Si\",\"location\":[-8.639077,-2.036250,-2.879692]},{\"element\":\"Si\",\"location\":[-6.719282,-0.678750,-2.879692]},{\"element\":\"Si\",\"location\":[-8.639077,2.036250,-0.959897]},{\"element\":\"Si\",\"location\":[-6.719282,0.678750,-0.959897]},{\"element\":\"Si\",\"location\":[-8.639077,-0.678750,0.959897]},{\"element\":\"Si\",\"location\":[-6.719282,-2.036250,0.959897]},{\"element\":\"Si\",\"location\":[-8.639077,0.678750,2.879692]},{\"element\":\"Si\",\"location\":[-6.719282,2.036250,2.879692]},{\"element\":\"Si\",\"location\":[-8.639077,3.393750,-2.879692]},{\"element\":\"Si\",\"location\":[-6.719282,4.751250,-2.879692]},{\"element\":\"Si\",\"location\":[-8.639077,7.466250,-0.959897]},{\"element\":\"Si\",\"location\":[-6.719282,6.108750,-0.959897]},{\"element\":\"Si\",\"location\":[-8.639077,4.751250,0.959897]},{\"element\":\"Si\",\"location\":[-6.719282,3.393750,0.959897]},{\"element\":\"Si\",\"location\":[-8.639077,6.108750,2.879692]},{\"element\":\"Si\",\"location\":[-6.719282,7.466250,2.879692]},{\"element\":\"Si\",\"location\":[-8.639077,8.823750,-2.879692]},{\"element\":\"Si\",\"location\":[-6.719282,10.181250,-2.879692]},{\"element\":\"Si\",\"location\":[-8.639077,12.896250,-0.959897]},{\"element\":\"Si\",\"location\":[-6.719282,11.538750,-0.959897]},{\"element\":\"Si\",\"location\":[-8.639077,10.181250,0.959897]},{\"element\":\"Si\",\"location\":[-6.719282,8.823750,0.959897]},{\"element\":\"Si\",\"location\":[-8.639077,11.538750,2.879692]},{\"element\":\"Si\",\"location\":[-6.719282,12.896250,2.879692]},{\"element\":\"Si\",\"location\":[-4.799487,-12.896250,-2.879692]},{\"element\":\"Si\",\"location\":[-2.879692,-11.538750,-2.879692]},{\"element\":\"Si\",\"location\":[-4.799487,-8.823750,-0.959897]},{\"element\":\"Si\",\"location\":[-2.879692,-10.181250,-0.959897]},{\"element\":\"Si\",\"location\":[-4.799487,-11.538750,0.959897]},{\"element\":\"Si\",\"location\":[-2.879692,-12.896250,0.959897]},{\"element\":\"Si\",\"location\":[-4.799487,-10.181250,2.879692]},{\"element\":\"Si\",\"location\":[-2.879692,-8.823750,2.879692]},{\"element\":\"Si\",\"location\":[-4.799487,-7.466250,-2.879692]},{\"element\":\"Si\",\"location\":[-2.879692,-6.108750,-2.879692]},{\"element\":\"Si\",\"location\":[-4.799487,-3.393750,-0.959897]},{\"element\":\"Si\",\"location\":[-2.879692,-4.751250,-0.959897]},{\"element\":\"Si\",\"location\":[-4.799487,-6.108750,0.959897]},{\"element\":\"Si\",\"location\":[-2.879692,-7.466250,0.959897]},{\"element\":\"Si\",\"location\":[-4.799487,-4.751250,2.879692]},{\"element\":\"Si\",\"location\":[-2.879692,-3.393750,2.879692]},{\"element\":\"Si\",\"location\":[-4.799487,-2.036250,-2.879692]},{\"element\":\"Si\",\"location\":[-2.879692,-0.678750,-2.879692]},{\"element\":\"Si\",\"location\":[-4.799487,2.036250,-0.959897]},{\"element\":\"Si\",\"location\":[-2.879692,0.678750,-0.959897]},{\"element\":\"Si\",\"location\":[-4.799487,-0.678750,0.959897]},{\"element\":\"Si\",\"location\":[-2.879692,-2.036250,0.959897]},{\"element\":\"Si\",\"location\":[-4.799487,0.678750,2.879692]},{\"element\":\"Si\",\"location\":[-2.879692,2.036250,2.879692]},{\"element\":\"Si\",\"location\":[-4.799487,3.393750,-2.879692]},{\"element\":\"Si\",\"location\":[-2.879692,4.751250,-2.879692]},{\"element\":\"Si\",\"location\":[-4.799487,7.466250,-0.959897]},{\"element\":\"Si\",\"location\":[-2.879692,6.108750,-0.959897]},{\"element\":\"Si\",\"location\":[-4.799487,4.751250,0.959897]},{\"element\":\"Si\",\"location\":[-2.879692,3.393750,0.959897]},{\"element\":\"Si\",\"location\":[-4.799487,6.108750,2.879692]},{\"element\":\"Si\",\"location\":[-2.879692,7.466250,2.879692]},{\"element\":\"Si\",\"location\":[-4.799487,8.823750,-2.879692]},{\"element\":\"Si\",\"location\":[-2.879692,10.181250,-2.879692]},{\"element\":\"Si\",\"location\":[-4.799487,12.896250,-0.959897]},{\"element\":\"Si\",\"location\":[-2.879692,11.538750,-0.959897]},{\"element\":\"Si\",\"location\":[-4.799487,10.181250,0.959897]},{\"element\":\"Si\",\"location\":[-2.879692,8.823750,0.959897]},{\"element\":\"Si\",\"location\":[-4.799487,11.538750,2.879692]},{\"element\":\"Si\",\"location\":[-2.879692,12.896250,2.879692]},{\"element\":\"Si\",\"location\":[-0.959897,-12.896250,-2.879692]},{\"element\":\"Si\",\"location\":[0.959897,-11.538750,-2.879692]},{\"element\":\"Si\",\"location\":[-0.959897,-8.823750,-0.959897]},{\"element\":\"Si\",\"location\":[0.959897,-10.181250,-0.959897]},{\"element\":\"Si\",\"location\":[-0.959897,-11.538750,0.959897]},{\"element\":\"Si\",\"location\":[0.959897,-12.896250,0.959897]},{\"element\":\"Si\",\"location\":[-0.959897,-10.181250,2.879692]},{\"element\":\"Si\",\"location\":[0.959897,-8.823750,2.879692]},{\"element\":\"Si\",\"location\":[-0.959897,-7.466250,-2.879692]},{\"element\":\"Si\",\"location\":[0.959897,-6.108750,-2.879692]},{\"element\":\"Si\",\"location\":[-0.959897,-3.393750,-0.959897]},{\"element\":\"Si\",\"location\":[0.959897,-4.751250,-0.959897]},{\"element\":\"Si\",\"location\":[-0.959897,-6.108750,0.959897]},{\"element\":\"Si\",\"location\":[0.959897,-7.466250,0.959897]},{\"element\":\"Si\",\"location\":[-0.959897,-4.751250,2.879692]},{\"element\":\"Si\",\"location\":[0.959897,-3.393750,2.879692]},{\"element\":\"Si\",\"location\":[-0.959897,-2.036250,-2.879692]},{\"element\":\"Si\",\"location\":[0.959897,-0.678750,-2.879692]},{\"element\":\"Si\",\"location\":[-0.959897,2.036250,-0.959897]},{\"element\":\"Si\",\"location\":[0.959897,0.678750,-0.959897]},{\"element\":\"Si\",\"location\":[-0.959897,-0.678750,0.959897]},{\"element\":\"Si\",\"location\":[0.959897,-2.036250,0.959897]},{\"element\":\"Si\",\"location\":[-0.959897,0.678750,2.879692]},{\"element\":\"Si\",\"location\":[0.959897,2.036250,2.879692]},{\"element\":\"Si\",\"location\":[-0.959897,3.393750,-2.879692]},{\"element\":\"Si\",\"location\":[0.959897,4.751250,-2.879692]},{\"element\":\"Si\",\"location\":[-0.959897,7.466250,-0.959897]},{\"element\":\"Si\",\"location\":[0.959897,6.108750,-0.959897]},{\"element\":\"Si\",\"location\":[-0.959897,4.751250,0.959897]},{\"element\":\"Si\",\"location\":[0.959897,3.393750,0.959897]},{\"element\":\"Si\",\"location\":[-0.959897,6.108750,2.879692]},{\"element\":\"Si\",\"location\":[0.959897,7.466250,2.879692]},{\"element\":\"Si\",\"location\":[-0.959897,8.823750,-2.879692]},{\"element\":\"Si\",\"location\":[0.959897,10.181250,-2.879692]},{\"element\":\"Si\",\"location\":[-0.959897,12.896250,-0.959897]},{\"element\":\"Si\",\"location\":[0.959897,11.538750,-0.959897]},{\"element\":\"Si\",\"location\":[-0.959897,10.181250,0.959897]},{\"element\":\"Si\",\"location\":[0.959897,8.823750,0.959897]},{\"element\":\"Si\",\"location\":[-0.959897,11.538750,2.879692]},{\"element\":\"Si\",\"location\":[0.959897,12.896250,2.879692]},{\"element\":\"Si\",\"location\":[2.879692,-12.896250,-2.879692]},{\"element\":\"Si\",\"location\":[4.799487,-11.538750,-2.879692]},{\"element\":\"Si\",\"location\":[2.879692,-8.823750,-0.959897]},{\"element\":\"Si\",\"location\":[4.799487,-10.181250,-0.959897]},{\"element\":\"Si\",\"location\":[2.879692,-11.538750,0.959897]},{\"element\":\"Si\",\"location\":[4.799487,-12.896250,0.959897]},{\"element\":\"Si\",\"location\":[2.879692,-10.181250,2.879692]},{\"element\":\"Si\",\"location\":[4.799487,-8.823750,2.879692]},{\"element\":\"Si\",\"location\":[2.879692,-7.466250,-2.879692]},{\"element\":\"Si\",\"location\":[4.799487,-6.108750,-2.879692]},{\"element\":\"Si\",\"location\":[2.879692,-3.393750,-0.959897]},{\"element\":\"Si\",\"location\":[4.799487,-4.751250,-0.959897]},{\"element\":\"Si\",\"location\":[2.879692,-6.108750,0.959897]},{\"element\":\"Si\",\"location\":[4.799487,-7.466250,0.959897]},{\"element\":\"Si\",\"location\":[2.879692,-4.751250,2.879692]},{\"element\":\"Si\",\"location\":[4.799487,-3.393750,2.879692]},{\"element\":\"Si\",\"location\":[2.879692,-2.036250,-2.879692]},{\"element\":\"Si\",\"location\":[4.799487,-0.678750,-2.879692]},{\"element\":\"Si\",\"location\":[2.879692,2.036250,-0.959897]},{\"element\":\"Si\",\"location\":[4.799487,0.678750,-0.959897]},{\"element\":\"Si\",\"location\":[2.879692,-0.678750,0.959897]},{\"element\":\"Si\",\"location\":[4.799487,-2.036250,0.959897]},{\"element\":\"Si\",\"location\":[2.879692,0.678750,2.879692]},{\"element\":\"Si\",\"location\":[4.799487,2.036250,2.879692]},{\"element\":\"Si\",\"location\":[2.879692,3.393750,-2.879692]},{\"element\":\"Si\",\"location\":[4.799487,4.751250,-2.879692]},{\"element\":\"Si\",\"location\":[2.879692,7.466250,-0.959897]},{\"element\":\"Si\",\"location\":[4.799487,6.108750,-0.959897]},{\"element\":\"Si\",\"location\":[2.879692,4.751250,0.959897]},{\"element\":\"Si\",\"location\":[4.799487,3.393750,0.959897]},{\"element\":\"Si\",\"location\":[2.879692,6.108750,2.879692]},{\"element\":\"Si\",\"location\":[4.799487,7.466250,2.879692]},{\"element\":\"Si\",\"location\":[2.879692,8.823750,-2.879692]},{\"element\":\"Si\",\"location\":[4.799487,10.181250,-2.879692]},{\"element\":\"Si\",\"location\":[2.879692,12.896250,-0.959897]},{\"element\":\"Si\",\"location\":[4.799487,11.538750,-0.959897]},{\"element\":\"Si\",\"location\":[2.879692,10.181250,0.959897]},{\"element\":\"Si\",\"location\":[4.799487,8.823750,0.959897]},{\"element\":\"Si\",\"location\":[2.879692,11.538750,2.879692]},{\"element\":\"Si\",\"location\":[4.799487,12.896250,2.879692]},{\"element\":\"Si\",\"location\":[6.719282,-12.896250,-2.879692]},{\"element\":\"Si\",\"location\":[8.639077,-11.538750,-2.879692]},{\"element\":\"Si\",\"location\":[6.719282,-8.823750,-0.959897]},{\"element\":\"Si\",\"location\":[8.639077,-10.181250,-0.959897]},{\"element\":\"Si\",\"location\":[6.719282,-11.538750,0.959897]},{\"element\":\"Si\",\"location\":[8.639077,-12.896250,0.959897]},{\"element\":\"Si\",\"location\":[6.719282,-10.181250,2.879692]},{\"element\":\"Si\",\"location\":[8.639077,-8.823750,2.879692]},{\"element\":\"Si\",\"location\":[6.719282,-7.466250,-2.879692]},{\"element\":\"Si\",\"location\":[8.639077,-6.108750,-2.879692]},{\"element\":\"Si\",\"location\":[6.719282,-3.393750,-0.959897]},{\"element\":\"Si\",\"location\":[8.639077,-4.751250,-0.959897]},{\"element\":\"Si\",\"location\":[6.719282,-6.108750,0.959897]},{\"element\":\"Si\",\"location\":[8.639077,-7.466250,0.959897]},{\"element\":\"Si\",\"location\":[6.719282,-4.751250,2.879692]},{\"element\":\"Si\",\"location\":[8.639077,-3.393750,2.879692]},{\"element\":\"Si\",\"location\":[6.719282,-2.036250,-2.879692]},{\"element\":\"Si\",\"location\":[8.639077,-0.678750,-2.879692]},{\"element\":\"Si\",\"location\":[6.719282,2.036250,-0.959897]},{\"element\":\"Si\",\"location\":[8.639077,0.678750,-0.959897]},{\"element\":\"Si\",\"location\":[6.719282,-0.678750,0.959897]},{\"element\":\"Si\",\"location\":[8.639077,-2.036250,0.959897]},{\"element\":\"Si\",\"location\":[6.719282,0.678750,2.879692]},{\"element\":\"Si\",\"location\":[8.639077,2.036250,2.879692]},{\"element\":\"Si\",\"location\":[6.719282,3.393750,-2.879692]},{\"element\":\"Si\",\"location\":[8.639077,4.751250,-2.879692]},{\"element\":\"Si\",\"location\":[6.719282,7.466250,-0.959897]},{\"element\":\"Si\",\"location\":[8.639077,6.108750,-0.959897]},{\"element\":\"Si\",\"location\":[6.719282,4.751250,0.959897]},{\"element\":\"Si\",\"location\":[8.639077,3.393750,0.959897]},{\"element\":\"Si\",\"location\":[6.719282,6.108750,2.879692]},{\"element\":\"Si\",\"location\":[8.639077,7.466250,2.879692]},{\"element\":\"Si\",\"location\":[6.719282,8.823750,-2.879692]},{\"element\":\"Si\",\"location\":[8.639077,10.181250,-2.879692]},{\"element\":\"Si\",\"location\":[6.719282,12.896250,-0.959897]},{\"element\":\"Si\",\"location\":[8.639077,11.538750,-0.959897]},{\"element\":\"Si\",\"location\":[6.719282,10.181250,0.959897]},{\"element\":\"Si\",\"location\":[8.639077,8.823750,0.959897]},{\"element\":\"Si\",\"location\":[6.719282,11.538750,2.879692]},{\"element\":\"Si\",\"location\":[8.639077,12.896250,2.879692]}],\"bonds\":[{\"atoms\":[0,1],\"order\":1},{\"atoms\":[1,40],\"order\":1},{\"atoms\":[1,3],\"order\":1},{\"atoms\":[97,96],\"order\":1},{\"atoms\":[97,136],\"order\":1},{\"atoms\":[97,99],\"order\":1},{\"atoms\":[96,57],\"order\":1},{\"atoms\":[96,90],\"order\":1},{\"atoms\":[104,105],\"order\":1},{\"atoms\":[104,65],\"order\":1},{\"atoms\":[104,98],\"order\":1},{\"atoms\":[105,144],\"order\":1},{\"atoms\":[105,107],\"order\":1},{\"atoms\":[193,192],\"order\":1},{\"atoms\":[193,195],\"order\":1},{\"atoms\":[192,153],\"order\":1},{\"atoms\":[192,186],\"order\":1},{\"atoms\":[8,9],\"order\":1},{\"atoms\":[8,2],\"order\":1},{\"atoms\":[9,48],\"order\":1},{\"atoms\":[9,11],\"order\":1},{\"atoms\":[89,88],\"order\":1},{\"atoms\":[89,128],\"order\":1},{\"atoms\":[89,91],\"order\":1},{\"atoms\":[88,49],\"order\":1},{\"atoms\":[88,82],\"order\":1},{\"atoms\":[112,113],\"order\":1},{\"atoms\":[112,73],\"order\":1},{\"atoms\":[112,106],\"order\":1},{\"atoms\":[113,152],\"order\":1},{\"atoms\":[113,115],\"order\":1},{\"atoms\":[185,184],\"order\":1},{\"atoms\":[185,187],\"order\":1},{\"atoms\":[184,145],\"order\":1},{\"atoms\":[184,178],\"order\":1},{\"atoms\":[16,17],\"order\":1},{\"atoms\":[16,10],\"order\":1},{\"atoms\":[17,56],\"order\":1},{\"atoms\":[17,19],\"order\":1},{\"atoms\":[81,80],\"order\":1},{\"atoms\":[81,120],\"order\":1},{\"atoms\":[81,83],\"order\":1},{\"atoms\":[80,41],\"order\":1},{\"atoms\":[120,121],\"order\":1},{\"atoms\":[121,160],\"order\":1},{\"atoms\":[121,123],\"order\":1},{\"atoms\":[177,176],\"order\":1},{\"atoms\":[177,179],\"order\":1},{\"atoms\":[176,137],\"order\":1},{\"atoms\":[176,170],\"order\":1},{\"atoms\":[24,25],\"order\":1},{\"atoms\":[24,18],\"order\":1},{\"atoms\":[25,64],\"order\":1},{\"atoms\":[25,27],\"order\":1},{\"atoms\":[73,72],\"order\":1},{\"atoms\":[73,75],\"order\":1},{\"atoms\":[72,33],\"order\":1},{\"atoms\":[72,66],\"order\":1},{\"atoms\":[128,129],\"order\":1},{\"atoms\":[128,122],\"order\":1},{\"atoms\":[129,168],\"order\":1},{\"atoms\":[129,131],\"order\":1},{\"atoms\":[169,168],\"order\":1},{\"atoms\":[169,171],\"order\":1},{\"atoms\":[168,162],\"order\":1},{\"atoms\":[32,33],\"order\":1},{\"atoms\":[32,26],\"order\":1},{\"atoms\":[33,35],\"order\":1},{\"atoms\":[65,64],\"order\":1},{\"atoms\":[65,67],\"order\":1},{\"atoms\":[64,58],\"order\":1},{\"atoms\":[136,137],\"order\":1},{\"atoms\":[136,130],\"order\":1},{\"atoms\":[137,139],\"order\":1},{\"atoms\":[161,160],\"order\":1},{\"atoms\":[161,163],\"order\":1},{\"atoms\":[40,41],\"order\":1},{\"atoms\":[41,43],\"order\":1},{\"atoms\":[57,56],\"order\":1},{\"atoms\":[57,59],\"order\":1},{\"atoms\":[56,50],\"order\":1},{\"atoms\":[144,145],\"order\":1},{\"atoms\":[144,138],\"order\":1},{\"atoms\":[145,147],\"order\":1},{\"atoms\":[153,152],\"order\":1},{\"atoms\":[153,155],\"order\":1},{\"atoms\":[152,146],\"order\":1},{\"atoms\":[48,49],\"order\":1},{\"atoms\":[48,42],\"order\":1},{\"atoms\":[49,51],\"order\":1},{\"atoms\":[50,51],\"order\":1},{\"atoms\":[50,11],\"order\":1},{\"atoms\":[51,90],\"order\":1},{\"atoms\":[147,146],\"order\":1},{\"atoms\":[147,186],\"order\":1},{\"atoms\":[146,107],\"order\":1},{\"atoms\":[154,155],\"order\":1},{\"atoms\":[154,115],\"order\":1},{\"atoms\":[155,194],\"order\":1},{\"atoms\":[43,42],\"order\":1},{\"atoms\":[43,82],\"order\":1},{\"atoms\":[42,3],\"order\":1},{\"atoms\":[58,59],\"order\":1},{\"atoms\":[58,19],\"order\":1},{\"atoms\":[59,98],\"order\":1},{\"atoms\":[139,138],\"order\":1},{\"atoms\":[139,178],\"order\":1},{\"atoms\":[138,99],\"order\":1},{\"atoms\":[162,163],\"order\":1},{\"atoms\":[162,123],\"order\":1},{\"atoms\":[35,34],\"order\":1},{\"atoms\":[35,74],\"order\":1},{\"atoms\":[66,67],\"order\":1},{\"atoms\":[66,27],\"order\":1},{\"atoms\":[67,106],\"order\":1},{\"atoms\":[131,130],\"order\":1},{\"atoms\":[131,170],\"order\":1},{\"atoms\":[130,91],\"order\":1},{\"atoms\":[170,171],\"order\":1},{\"atoms\":[27,26],\"order\":1},{\"atoms\":[74,75],\"order\":1},{\"atoms\":[75,114],\"order\":1},{\"atoms\":[123,122],\"order\":1},{\"atoms\":[122,83],\"order\":1},{\"atoms\":[178,179],\"order\":1},{\"atoms\":[19,18],\"order\":1},{\"atoms\":[82,83],\"order\":1},{\"atoms\":[115,114],\"order\":1},{\"atoms\":[186,187],\"order\":1},{\"atoms\":[11,10],\"order\":1},{\"atoms\":[90,91],\"order\":1},{\"atoms\":[107,106],\"order\":1},{\"atoms\":[194,195],\"order\":1},{\"atoms\":[3,2],\"order\":1},{\"atoms\":[98,99],\"order\":1},{\"atoms\":[100,101],\"order\":1},{\"atoms\":[100,61],\"order\":1},{\"atoms\":[100,102],\"order\":1},{\"atoms\":[101,140],\"order\":1},{\"atoms\":[101,95],\"order\":1},{\"atoms\":[197,196],\"order\":1},{\"atoms\":[197,191],\"order\":1},{\"atoms\":[196,157],\"order\":1},{\"atoms\":[196,198],\"order\":1},{\"atoms\":[4,5],\"order\":1},{\"atoms\":[4,6],\"order\":1},{\"atoms\":[5,44],\"order\":1},{\"atoms\":[93,92],\"order\":1},{\"atoms\":[93,132],\"order\":1},{\"atoms\":[93,87],\"order\":1},{\"atoms\":[92,53],\"order\":1},{\"atoms\":[92,94],\"order\":1},{\"atoms\":[108,109],\"order\":1},{\"atoms\":[108,69],\"order\":1},{\"atoms\":[108,110],\"order\":1},{\"atoms\":[109,148],\"order\":1},{\"atoms\":[109,103],\"order\":1},{\"atoms\":[189,188],\"order\":1},{\"atoms\":[189,183],\"order\":1},{\"atoms\":[188,149],\"order\":1},{\"atoms\":[188,190],\"order\":1},{\"atoms\":[12,13],\"order\":1},{\"atoms\":[12,14],\"order\":1},{\"atoms\":[13,52],\"order\":1},{\"atoms\":[13,7],\"order\":1},{\"atoms\":[85,84],\"order\":1},{\"atoms\":[85,124],\"order\":1},{\"atoms\":[84,45],\"order\":1},{\"atoms\":[84,86],\"order\":1},{\"atoms\":[116,117],\"order\":1},{\"atoms\":[116,77],\"order\":1},{\"atoms\":[116,118],\"order\":1},{\"atoms\":[117,156],\"order\":1},{\"atoms\":[117,111],\"order\":1},{\"atoms\":[181,180],\"order\":1},{\"atoms\":[181,175],\"order\":1},{\"atoms\":[180,141],\"order\":1},{\"atoms\":[180,182],\"order\":1},{\"atoms\":[20,21],\"order\":1},{\"atoms\":[20,22],\"order\":1},{\"atoms\":[21,60],\"order\":1},{\"atoms\":[21,15],\"order\":1},{\"atoms\":[77,76],\"order\":1},{\"atoms\":[77,71],\"order\":1},{\"atoms\":[76,37],\"order\":1},{\"atoms\":[76,78],\"order\":1},{\"atoms\":[124,125],\"order\":1},{\"atoms\":[124,126],\"order\":1},{\"atoms\":[125,164],\"order\":1},{\"atoms\":[173,172],\"order\":1},{\"atoms\":[173,167],\"order\":1},{\"atoms\":[172,133],\"order\":1},{\"atoms\":[172,174],\"order\":1},{\"atoms\":[28,29],\"order\":1},{\"atoms\":[28,30],\"order\":1},{\"atoms\":[29,68],\"order\":1},{\"atoms\":[29,23],\"order\":1},{\"atoms\":[69,68],\"order\":1},{\"atoms\":[69,63],\"order\":1},{\"atoms\":[68,70],\"order\":1},{\"atoms\":[132,133],\"order\":1},{\"atoms\":[132,134],\"order\":1},{\"atoms\":[133,127],\"order\":1},{\"atoms\":[165,164],\"order\":1},{\"atoms\":[164,166],\"order\":1},{\"atoms\":[36,37],\"order\":1},{\"atoms\":[36,38],\"order\":1},{\"atoms\":[37,31],\"order\":1},{\"atoms\":[61,60],\"order\":1},{\"atoms\":[61,55],\"order\":1},{\"atoms\":[60,62],\"order\":1},{\"atoms\":[140,141],\"order\":1},{\"atoms\":[140,142],\"order\":1},{\"atoms\":[141,135],\"order\":1},{\"atoms\":[157,156],\"order\":1},{\"atoms\":[157,151],\"order\":1},{\"atoms\":[156,158],\"order\":1},{\"atoms\":[44,45],\"order\":1},{\"atoms\":[44,46],\"order\":1},{\"atoms\":[53,52],\"order\":1},{\"atoms\":[53,47],\"order\":1},{\"atoms\":[52,54],\"order\":1},{\"atoms\":[148,149],\"order\":1},{\"atoms\":[148,150],\"order\":1},{\"atoms\":[149,143],\"order\":1},{\"atoms\":[150,151],\"order\":1},{\"atoms\":[150,111],\"order\":1},{\"atoms\":[151,190],\"order\":1},{\"atoms\":[47,46],\"order\":1},{\"atoms\":[47,86],\"order\":1},{\"atoms\":[46,7],\"order\":1},{\"atoms\":[54,55],\"order\":1},{\"atoms\":[54,15],\"order\":1},{\"atoms\":[55,94],\"order\":1},{\"atoms\":[143,142],\"order\":1},{\"atoms\":[143,182],\"order\":1},{\"atoms\":[142,103],\"order\":1},{\"atoms\":[158,159],\"order\":1},{\"atoms\":[158,119],\"order\":1},{\"atoms\":[159,198],\"order\":1},{\"atoms\":[39,38],\"order\":1},{\"atoms\":[39,78],\"order\":1},{\"atoms\":[62,63],\"order\":1},{\"atoms\":[62,23],\"order\":1},{\"atoms\":[63,102],\"order\":1},{\"atoms\":[135,134],\"order\":1},{\"atoms\":[135,174],\"order\":1},{\"atoms\":[134,95],\"order\":1},{\"atoms\":[166,167],\"order\":1},{\"atoms\":[166,127],\"order\":1},{\"atoms\":[31,30],\"order\":1},{\"atoms\":[31,70],\"order\":1},{\"atoms\":[70,71],\"order\":1},{\"atoms\":[71,110],\"order\":1},{\"atoms\":[127,126],\"order\":1},{\"atoms\":[126,87],\"order\":1},{\"atoms\":[174,175],\"order\":1},{\"atoms\":[23,22],\"order\":1},{\"atoms\":[78,79],\"order\":1},{\"atoms\":[79,118],\"order\":1},{\"atoms\":[119,118],\"order\":1},{\"atoms\":[182,183],\"order\":1},{\"atoms\":[15,14],\"order\":1},{\"atoms\":[86,87],\"order\":1},{\"atoms\":[111,110],\"order\":1},{\"atoms\":[190,191],\"order\":1},{\"atoms\":[7,6],\"order\":1},{\"atoms\":[94,95],\"order\":1},{\"atoms\":[103,102],\"order\":1},{\"atoms\":[198,199],\"order\":1}],\"formula\":\"Si200\",\"molecular_weight\":5617.100000,\"units\":{\"molecular_weight\":\"g / mol\"}});\n",
       "\n",
       "               $d.resizable({\n",
       "                   aspectRatio: 500 / 500,\n",
       "                   resize: function (evt, ui) {\n",
       "                       $d.imolecule.renderer.setSize(ui.size.width,\n",
       "                                                     ui.size.height);\n",
       "                   }\n",
       "               });\n",
       "           });\n",
       "           </script>"
      ],
      "text/plain": [
       "PyObject <IPython.core.display.HTML object>"
      ]
     },
     "execution_count": 76,
     "metadata": {},
     "output_type": "execute_result"
    }
   ],
   "source": [
    "JuLIP.Visualise.show(at)"
   ]
  },
  {
   "cell_type": "code",
   "execution_count": 4,
   "metadata": {
    "collapsed": false
   },
   "outputs": [
    {
     "data": {
      "image/png": "[encoded data removed]",
      "text/plain": [
       "PyPlot.Figure(PyObject <matplotlib.figure.Figure object at 0x329c18590>)"
      ]
     },
     "metadata": {},
     "output_type": "display_data"
    },
    {
     "data": {
      "text/plain": [
       "1-element Array{Any,1}:\n",
       " PyObject <matplotlib.lines.Line2D object at 0x329f83250>"
      ]
     },
     "execution_count": 4,
     "metadata": {},
     "output_type": "execute_result"
    }
   ],
   "source": [
    "at, b, x0 = si_plane(9)\n",
    "figure(figsize=(5,7))\n",
    "plot_layers(at, x0)\n",
    "# axis(\"equal\")"
   ]
  },
  {
   "cell_type": "code",
   "execution_count": 7,
   "metadata": {
    "collapsed": false
   },
   "outputs": [
    {
     "data": {
      "text/plain": [
       "4-element SubArray{StaticArrays.SVector{3,Float64},1,Array{StaticArrays.SVector{3,Float64},1},Tuple{UnitRange{Int64}},true}:\n",
       " [0.0,-1.3575,-1.91979]\n",
       " [0.0,-1.3575,1.91979] \n",
       " [-1.91979,1.3575,0.0] \n",
       " [1.91979,1.3575,0.0]  "
      ]
     },
     "metadata": {},
     "output_type": "display_data"
    },
    {
     "data": {
      "text/plain": [
       "4×4 Array{Float64,2}:\n",
       "  5.52842  -1.84281  -1.84281  -1.84281\n",
       " -1.84281   5.52842  -1.84281  -1.84281\n",
       " -1.84281  -1.84281   5.52842  -1.84281\n",
       " -1.84281  -1.84281  -1.84281   5.52842"
      ]
     },
     "metadata": {},
     "output_type": "display_data"
    },
    {
     "data": {
      "text/plain": [
       "4-element SubArray{StaticArrays.SVector{3,Float64},1,Array{StaticArrays.SVector{3,Float64},1},Tuple{UnitRange{Int64}},true}:\n",
       " [0.0,-1.3575,-1.91979]\n",
       " [-1.91979,1.3575,0.0] \n",
       " [1.91979,1.3575,0.0]  \n",
       " [0.0,-1.3575,1.91979] "
      ]
     },
     "metadata": {},
     "output_type": "display_data"
    },
    {
     "data": {
      "text/plain": [
       "4×4 Array{Float64,2}:\n",
       "  5.52842  -1.84281  -1.84281  -1.84281\n",
       " -1.84281   5.52842  -1.84281  -1.84281\n",
       " -1.84281  -1.84281   5.52842  -1.84281\n",
       " -1.84281  -1.84281  -1.84281   5.52842"
      ]
     },
     "metadata": {},
     "output_type": "display_data"
    },
    {
     "data": {
      "text/plain": [
       "4-element SubArray{StaticArrays.SVector{3,Float64},1,Array{StaticArrays.SVector{3,Float64},1},Tuple{UnitRange{Int64}},true}:\n",
       " [-1.91979,-1.3575,0.0]\n",
       " [1.91979,-1.3575,0.0] \n",
       " [0.0,1.3575,-1.91979] \n",
       " [0.0,1.3575,1.91979]  "
      ]
     },
     "metadata": {},
     "output_type": "display_data"
    },
    {
     "data": {
      "text/plain": [
       "4×4 Array{Float64,2}:\n",
       "  5.52842  -1.84281  -1.84281  -1.84281\n",
       " -1.84281   5.52842  -1.84281  -1.84281\n",
       " -1.84281  -1.84281   5.52842  -1.84281\n",
       " -1.84281  -1.84281  -1.84281   5.52842"
      ]
     },
     "metadata": {},
     "output_type": "display_data"
    }
   ],
   "source": [
    "set_pbc!(at, true)\n",
    "ctr = 0\n",
    "for (i, j, r, R, _) in sites(at, rnn(\"Si\") + 0.1)\n",
    "    display(R)\n",
    "    display( [dot(a, b) for a in R, b in R] )\n",
    "    ctr += 1\n",
    "    ctr == 3 && break\n",
    "end "
   ]
  },
  {
   "cell_type": "code",
   "execution_count": 9,
   "metadata": {
    "collapsed": false
   },
   "outputs": [],
   "source": [
    "at2 = at * (1,1,2)\n",
    "write(\"temp.xyz\", at2)"
   ]
  },
  {
   "cell_type": "code",
   "execution_count": 13,
   "metadata": {
    "collapsed": false
   },
   "outputs": [],
   "source": [
    "at3 = bulk(\"Si\", cubic = true) * (5,5,2)\n",
    "write(\"temp2.xyz\", at3)\n",
    "# JuLIP.Visualise.show(at3)"
   ]
  },
  {
   "cell_type": "code",
   "execution_count": 77,
   "metadata": {
    "collapsed": false
   },
   "outputs": [],
   "source": [
    "# at, x0 = si_edge(9)\n",
    "# plot_layers(at, x0)"
   ]
  },
  {
   "cell_type": "code",
   "execution_count": 78,
   "metadata": {
    "collapsed": false
   },
   "outputs": [],
   "source": [
    "# at, x0 = si_edge(31)\n",
    "# calc = sw_eq()\n",
    "# f = norm.(forces(calc, at))\n",
    "# r = dists(at, x0)\n",
    "# loglog(r, f, \"r.\", markersize=2)\n",
    "# loglog(r, 10*r.^(-2), \"g.\", r, 10*r.^(-1), \"b.\", markersize=1)"
   ]
  },
  {
   "cell_type": "code",
   "execution_count": 79,
   "metadata": {
    "collapsed": false
   },
   "outputs": [
    {
     "name": "stderr",
     "output_type": "stream",
     "text": [
      "WARNING: Method definition si_multilattice(Any) in module Main at In[35]:6 overwritten at In[79]:6.\n",
      "\u001b[1m\u001b[31mWARNING: replacing docs for 'si_multilattice :: Tuple{Any}' in module 'Main'.\u001b[0m\n"
     ]
    },
    {
     "data": {
      "text/plain": [
       "si_multilattice"
      ]
     },
     "execution_count": 79,
     "metadata": {},
     "output_type": "execute_result"
    }
   ],
   "source": [
    "\"\"\"\n",
    "a function that identifies multi-lattice structure in 2 layers of bulk-Si\n",
    "(yes - very restrictive but will do for now!)\n",
    "\"\"\"\n",
    "function si_multilattice(at)\n",
    "    I0 = Int[] \n",
    "    I1 = Int[]\n",
    "    Idel = Int[]\n",
    "    for (i, j, r, R, _) in sites(at, rnn(\"Si\")+0.1)\n",
    "        foundneig = false \n",
    "        for (jj, RR) in zip(j, R)\n",
    "            if (RR[1] == 0.0) && (abs(RR[2] - 1.3575) < 1e-3)      \n",
    "                # neighbour above >> make (i, jj) a site\n",
    "                push!(I0, i)\n",
    "                push!(I1, jj)\n",
    "                foundneig = true\n",
    "                break\n",
    "            elseif (RR[1] == 0.0) && (abs(RR[2] + 1.3575) < 1e-3)  \n",
    "                # neighbour below >> (jj, i) is a site that will be pushed when i ↔ jj\n",
    "                foundneig = true\n",
    "                break\n",
    "            end\n",
    "        end\n",
    "        if !foundneig\n",
    "            # i has no neighbour above or below >> probably we just get rid of it\n",
    "            push!(Idel, i)\n",
    "        end\n",
    "    end\n",
    "    return I0, I1, Idel \n",
    "end \n"
   ]
  },
  {
   "cell_type": "code",
   "execution_count": 109,
   "metadata": {
    "collapsed": false
   },
   "outputs": [
    {
     "data": {
      "text/plain": [
       "4-element Array{StaticArrays.SVector{3,Float64},1}:\n",
       " [0.0,0.0,0.0]          \n",
       " [1.91979,2.715,1.91979]\n",
       " [0.0,-1.3575,1.91979]  \n",
       " [1.91979,1.3575,0.0]   "
      ]
     },
     "execution_count": 109,
     "metadata": {},
     "output_type": "execute_result"
    }
   ],
   "source": [
    "at, _, _ = MaterialsScienceTools.Dislocations_Silicon_hard_110.fcc_edge_plane(\"Si\")\n",
    "at |> positions"
   ]
  },
  {
   "cell_type": "code",
   "execution_count": 107,
   "metadata": {
    "collapsed": false
   },
   "outputs": [
    {
     "data": {
      "image/png": "[encoded data removed]",
      "text/plain": [
       "PyPlot.Figure(PyObject <matplotlib.figure.Figure object at 0x32e743e10>)"
      ]
     },
     "metadata": {},
     "output_type": "display_data"
    },
    {
     "data": {
      "text/plain": [
       "1-element Array{Any,1}:\n",
       " PyObject <matplotlib.lines.Line2D object at 0x32e7da2d0>"
      ]
     },
     "execution_count": 107,
     "metadata": {},
     "output_type": "execute_result"
    }
   ],
   "source": [
    "# testing si_multilattice\n",
    "\n",
    "at, _, _ = MaterialsScienceTools.Dislocations_Silicon_hard_110.fcc_edge_plane(\"Si\")\n",
    "at = at * (7, 3, 1)\n",
    "I0, I1, Idel = si_multilattice(at)\n",
    "X = positions(at) |> mat \n",
    "\n",
    "figure(figsize=(5,3))\n",
    "plot_layers(at)\n",
    "plot(X[1,I0], X[2,I0],\"m+\")\n",
    "plot(X[1,I1], X[2,I1],\"c+\")\n",
    "plot(X[1,Idel], X[3,Idel], \"yx\")\n"
   ]
  },
  {
   "cell_type": "code",
   "execution_count": null,
   "metadata": {
    "collapsed": true
   },
   "outputs": [],
   "source": []
  },
  {
   "cell_type": "code",
   "execution_count": 98,
   "metadata": {
    "collapsed": false
   },
   "outputs": [
    {
     "data": {
      "image/png": "[encoded data removed]",
      "text/plain": [
       "PyPlot.Figure(PyObject <matplotlib.figure.Figure object at 0x3293a6d50>)"
      ]
     },
     "metadata": {},
     "output_type": "display_data"
    },
    {
     "data": {
      "text/plain": [
       "2-element Array{Any,1}:\n",
       " PyObject <matplotlib.lines.Line2D object at 0x329ec9950>\n",
       " PyObject <matplotlib.lines.Line2D object at 0x32ae3c950>"
      ]
     },
     "execution_count": 98,
     "metadata": {},
     "output_type": "execute_result"
    }
   ],
   "source": [
    "at, _, _ = si_plane(9)\n",
    "calc = sw_eq()\n",
    "x0 = JVecF([-2.0, -2.0, 0.0])\n",
    "u = x -> 0.4 * [(x-x0)[1:2]/norm((x-x0)[1:2]); 0.0]\n",
    "X = [ x + u(x) for x in positions(at) ]\n",
    "set_positions!(at, X)\n",
    "f = norm.(forces(calc, at))\n",
    "r = dists(at, x0)\n",
    "loglog(r, f, \"r.\", markersize=2)\n",
    "loglog(r, 10*r.^(-2), \"g.\", r, 10*r.^(-1), \"b.\", markersize=1)\n"
   ]
  },
  {
   "cell_type": "code",
   "execution_count": null,
   "metadata": {
    "collapsed": true
   },
   "outputs": [],
   "source": []
  },
  {
   "cell_type": "code",
   "execution_count": null,
   "metadata": {
    "collapsed": true
   },
   "outputs": [],
   "source": []
  },
  {
   "cell_type": "code",
   "execution_count": null,
   "metadata": {
    "collapsed": true
   },
   "outputs": [],
   "source": []
  },
  {
   "cell_type": "code",
   "execution_count": null,
   "metadata": {
    "collapsed": true
   },
   "outputs": [],
   "source": []
  },
  {
   "cell_type": "code",
   "execution_count": null,
   "metadata": {
    "collapsed": true
   },
   "outputs": [],
   "source": []
  },
  {
   "cell_type": "code",
   "execution_count": 12,
   "metadata": {
    "collapsed": false
   },
   "outputs": [
    {
     "ename": "LoadError",
     "evalue": "BoundsError: attempt to access 324-element Array{StaticArrays.SVector{3,Float64},1} at index [325]",
     "output_type": "error",
     "traceback": [
      "BoundsError: attempt to access 324-element Array{StaticArrays.SVector{3,Float64},1} at index [325]",
      "",
      " in getindex(::Array{StaticArrays.SVector{3,Float64},1}, ::Int64) at ./array.jl:386",
      " in macro expansion; at ./In[12]:6 [inlined]",
      " in anonymous at ./<missing>:?"
     ]
    }
   ],
   "source": [
    "# at, _, _ = si_plane(15)\n",
    "# set_pbc!(at, true)\n",
    "# x0 = JVecF([-2.0, -2.0, 0.0])\n",
    "# for (i, x) in enumerate(positions(at))\n",
    "#     u = JVecF([x[1] - x0[1], x[2]-x0[2], 0.0]) / norm(x-x0) \n",
    "#     X[i] += u\n",
    "# end \n",
    "# set_positions!(at, X)\n",
    "# I0 = find(X[3,:] .== 0)\n",
    "# @show length(I0)\n",
    "# set_calculator!(at, calc)\n",
    "# set_constraint!(at, FixedCell(at, clamp = I0))\n",
    "# minimise!(at)\n",
    "# f = norm.(forces(calc, at))\n",
    "# r = dists(at, x0)\n",
    "# loglog(r, f, \"r.\", markersize=2)\n",
    "# loglog(r, 10*r.^(-2), \"g.\", r, 10*r.^(-1), \"b.\", markersize=1)\n"
   ]
  },
  {
   "cell_type": "code",
   "execution_count": 11,
   "metadata": {
    "collapsed": false
   },
   "outputs": [
    {
     "data": {
      "text/plain": [
       "si_edge_outside (generic function with 1 method)"
      ]
     },
     "execution_count": 11,
     "metadata": {},
     "output_type": "execute_result"
    }
   ],
   "source": [
    "function si_edge_outside(R) \n",
    "    at, b, xcore = si_plane(R)\n",
    "    X = positions(at) |> mat\n",
    "    X2d = X[1:2,:] .+ [2.0, 2.0]\n",
    "    U = ulin_edge_isotropic(X2d, b, 0.25)\n",
    "    X[1:2, :] += U\n",
    "    set_positions!(at, vecs(X))\n",
    "    return at, JVecF([2.0, 2.0, 0.0])\n",
    "end \n"
   ]
  },
  {
   "cell_type": "code",
   "execution_count": 12,
   "metadata": {
    "collapsed": false
   },
   "outputs": [
    {
     "data": {
      "image/png": "[encoded data removed]",
      "text/plain": [
       "PyPlot.Figure(PyObject <matplotlib.figure.Figure object at 0x32d876650>)"
      ]
     },
     "metadata": {},
     "output_type": "display_data"
    },
    {
     "data": {
      "text/plain": [
       "2-element Array{Any,1}:\n",
       " PyObject <matplotlib.lines.Line2D object at 0x32f161110>\n",
       " PyObject <matplotlib.lines.Line2D object at 0x32f32be50>"
      ]
     },
     "execution_count": 12,
     "metadata": {},
     "output_type": "execute_result"
    }
   ],
   "source": [
    "at, x0 = si_edge_outside(13) \n",
    "f = norm.(forces(calc, at))\n",
    "r = dists(at, x0)\n",
    "loglog(r, f, \"r.\", markersize=2)\n",
    "loglog(r, 10*r.^(-2), \"g.\", r, 10*r.^(-1), \"b.\", markersize=1)"
   ]
  },
  {
   "cell_type": "code",
   "execution_count": null,
   "metadata": {
    "collapsed": true
   },
   "outputs": [],
   "source": []
  },
  {
   "cell_type": "code",
   "execution_count": null,
   "metadata": {
    "collapsed": true
   },
   "outputs": [],
   "source": []
  },
  {
   "cell_type": "code",
   "execution_count": null,
   "metadata": {
    "collapsed": true
   },
   "outputs": [],
   "source": []
  },
  {
   "cell_type": "code",
   "execution_count": 95,
   "metadata": {
    "collapsed": false
   },
   "outputs": [
    {
     "name": "stderr",
     "output_type": "stream",
     "text": [
      "WARNING: Method definition DpWcb(Any, Any) in module Main at In[82]:20 overwritten at In[95]:20.\n",
      "WARNING: Method definition DpWcb(Any, Any, Any) in module Main at In[82]:20 overwritten at In[95]:20.\n",
      "WARNING: Method definition DpWcb(Any, Any, Any, Any) in module Main at In[82]:20 overwritten at In[95]:20.\n",
      "WARNING: Method definition DpDpWcb() in module Main at In[82]:29 overwritten at In[95]:29.\n",
      "WARNING: Method definition (::Type{Main.WcbQuad})(Array{Float64, 2}, Array{Float64, 2}, JuLIP.AbstractAtoms, JuLIP.Potentials.StillingerWeber) in module Main at In[82]:48 overwritten at In[95]:48.\n",
      "WARNING: Method definition (::Type{Main.WcbQuad})(Any, Any, Any, Any) in module Main at In[82]:48 overwritten at In[95]:48.\n",
      "WARNING: Method definition (::Type{Main.WcbQuad})() in module Main at In[82]:55 overwritten at In[95]:55.\n",
      "WARNING: Method definition WcbQuad(Any) in module Main at In[82]:60 overwritten at In[95]:60.\n"
     ]
    }
   ],
   "source": [
    "# using JuLIP, JuLIP.ASE, JuLIP.Potentials\n",
    "\n",
    "# \"a fully equilibrated SW potential\"\n",
    "# function sw_eq()\n",
    "#     T(σ, at) = trace(stress(StillingerWeber(σ=σ), at))\n",
    "#     at = JuLIP.ASE.bulk(\"Si\", pbc=true)\n",
    "#     r0 = 2.0951\n",
    "#     r1 = r0 - 0.1 \n",
    "#     s0, s1 = T(r0, at), T(r1, at)\n",
    "#     while (abs(s1) > 1e-8) && abs(r0 - r1) > 1e-8\n",
    "#         rnew = (r0 * s1 - r1 * s0) / (s1 - s0)\n",
    "#         r0, r1 = r1, rnew\n",
    "#         s0, s1 = s1, T(rnew, at)\n",
    "#     end\n",
    "#     return StillingerWeber(σ=r1)\n",
    "# end \n",
    "\n",
    "\n",
    "function DpWcb(F, p, at = bulk(\"Si\", pbc=true), sw = sw_eq())\n",
    "    set_defm!(at, F)\n",
    "    X = positions(at)\n",
    "    X[2] = X[1] + p\n",
    "    set_positions!(at, X)\n",
    "    return -forces(sw, at)[2]\n",
    "end\n",
    "\n",
    "\n",
    "function DpDpWcb()\n",
    "    at = bulk(\"Si\", pbc=true)\n",
    "    sw = sw_eq()\n",
    "    F0 = defm(at)\n",
    "    p0 = positions(at)[2] |> Vector\n",
    "    h = 1e-5\n",
    "    DpDpW = zeros(3, 3)\n",
    "    for i = 1:3 \n",
    "        p0[i] += h \n",
    "        DpW1 = DpWcb(F0, JVecF(p0), at, sw)\n",
    "        p0[i] -= 2*h \n",
    "        DpW2 = DpWcb(F0, JVecF(p0), at, sw)\n",
    "        p0[i] += h\n",
    "        DpDpW[:, i] = (DpW1 - DpW2) / (2*h)\n",
    "    end \n",
    "    return 0.5 * (DpDpW + DpDpW')\n",
    "end\n",
    "\n",
    "\n",
    "type WcbQuad\n",
    "    DpDpW::Matrix{Float64}\n",
    "    DpDpW_inv::Matrix{Float64}\n",
    "    at::AbstractAtoms\n",
    "    sw::StillingerWeber\n",
    "end\n",
    "\n",
    "function WcbQuad()\n",
    "    DpDpW = DpDpWcb()\n",
    "    return WcbQuad(DpDpW, pinv(DpDpW), bulk(\"Si\", pbc=true), sw_eq())\n",
    "end \n",
    "\n",
    "function (W::WcbQuad)(F)\n",
    "    p0 = positions(W.at)[2]\n",
    "    p1 = p0 - W.DpDpW_inv * DpWcb(F, p0, W.at, W.sw)\n",
    "    p2 = p1 - W.DpDpW_inv * DpWcb(F, p1, W.at, W.sw)\n",
    "    return p2\n",
    "end\n",
    "\n",
    ";"
   ]
  },
  {
   "cell_type": "code",
   "execution_count": null,
   "metadata": {
    "collapsed": true
   },
   "outputs": [],
   "source": [
    "# this is probably a test of WcbQuad, which I don't remember at all \n",
    "\n",
    "at = bulk(\"Si\", cubic=false, pbc = true)\n",
    "sw = sw_eq()\n",
    "@show maxnorm(forces(sw, at))\n",
    "F = defm(at)\n",
    "G = rand(JMatF)\n",
    "for p = 2:6\n",
    "    h = 0.1^p \n",
    "    set_defm!(at, F + h * G, updatepositions=true)\n",
    "    @show maxnorm(forces(sw, at))\n",
    "end \n",
    "    ;"
   ]
  },
  {
   "cell_type": "code",
   "execution_count": 38,
   "metadata": {
    "collapsed": false
   },
   "outputs": [
    {
     "name": "stdout",
     "output_type": "stream",
     "text": [
      "r1 = 2.0947336035467163\n",
      "maxnorm(forces(sw,at)) = 0.0\n",
      "r1 = 2.0947336035467163\n",
      "r1 = 2.0947336035467163\n",
      "ph = [1.35913,1.35939,1.36145]\n",
      "maxnorm(forces(sw,at)) = 0.00046276182227301656\n",
      "ph = [1.35766,1.35769,1.3579]\n",
      "maxnorm(forces(sw,at)) = 4.6557441051559756e-6\n",
      "ph = [1.35752,1.35752,1.35754]\n",
      "maxnorm(forces(sw,at)) = 4.6585626858496504e-8\n",
      "ph = [1.3575,1.3575,1.3575]\n",
      "maxnorm(forces(sw,at)) = 4.658898766266588e-10\n",
      "ph = [1.3575,1.3575,1.3575]\n",
      "maxnorm(forces(sw,at)) = 4.661300626297193e-12\n"
     ]
    }
   ],
   "source": [
    "# this is probably another test of WcbQuad, which I don't remember at all \n",
    "\n",
    "at = bulk(\"Si\", cubic=false, pbc = true)\n",
    "sw = sw_eq()\n",
    "@show maxnorm(forces(sw, at))\n",
    "F0 = defm(at)\n",
    "G = rand(JMatF)\n",
    "W = WcbQuad()\n",
    "for q = 2:6\n",
    "    h = 0.1^q\n",
    "    F = F0 + h * G\n",
    "    ph = W(F)\n",
    "    @show ph\n",
    "    set_defm!(at, F, updatepositions=false)\n",
    "    X = positions(at)\n",
    "    X[2] = ph \n",
    "    set_positions!(at, X)\n",
    "    @show maxnorm(forces(sw, at))\n",
    "end \n",
    ";"
   ]
  },
  {
   "cell_type": "code",
   "execution_count": null,
   "metadata": {
    "collapsed": true
   },
   "outputs": [],
   "source": []
  },
  {
   "cell_type": "code",
   "execution_count": 114,
   "metadata": {
    "collapsed": false
   },
   "outputs": [
    {
     "name": "stderr",
     "output_type": "stream",
     "text": [
      "WARNING: Method definition symml_displacement!(Any, Any) in module Main at In[110]:11 overwritten at In[114]:11.\n",
      "WARNING: Method definition ml_displacement!(Any, Any) in module Main at In[110]:31 overwritten at In[114]:31.\n"
     ]
    },
    {
     "data": {
      "text/plain": [
       "ml_displacement! (generic function with 1 method)"
      ]
     },
     "execution_count": 114,
     "metadata": {},
     "output_type": "execute_result"
    }
   ],
   "source": [
    "# we now want to take the following example but apply \n",
    "# the minimised shifts\n",
    "\n",
    "# at, _, _ = si_plane(9)\n",
    "# calc = sw_eq()\n",
    "# x0 = JVecF([-2.0, -2.0, 0.0])\n",
    "# X = [ x + 0.4 * [((x-x0)/norm(x-x0))[1:2]; 0.0] for x in positions(at)]\n",
    "# set_positions!(at, X)\n",
    "\n",
    "function symml_displacement!(at, u)\n",
    "    I0, I1, Idel = si_multilattice(at)\n",
    "    @assert isempty(Idel)  # if Idel is not empty then (for now) we don't know what to do \n",
    "    X = positions(at)\n",
    "    W = WcbQuad()\n",
    "    F0 = defm(W.at)\n",
    "    p0 = W(F0)\n",
    "    for (i0, i1) in zip(I0, I1)   # each pair (i0, i1) corresponds to a ML lattice site\n",
    "        x0, x1 = X[i0], X[i1]\n",
    "        x̄ = 0.5 * (x0 + x1)   # centre of mass of the bond\n",
    "        U, ∇U = u(x̄)          # displacement and displacement gradient\n",
    "        p = W((I + ∇U) * F0)    # construct the shift corresponding to F = Id + ∇U\n",
    "#         @show vecnorm(∇U), p-p0\n",
    "        u0, u1 = U - 0.5 * (p-p0), U + 0.5 * (p-p0)\n",
    "        X[i0], X[i1] = x0 + u0, x1 + u1\n",
    "    end \n",
    "    set_positions!(at, X)\n",
    "    return at \n",
    "end \n",
    "\n",
    "function ml_displacement!(at, u)\n",
    "    I0, I1, Idel = si_multilattice(at)\n",
    "    @assert isempty(Idel)  # if Idel is not empty then (for now) we don't know what to do \n",
    "    X = positions(at)\n",
    "    W = WcbQuad()\n",
    "    F0 = defm(W.at)\n",
    "    @show p0 = W(F0)\n",
    "    for (i0, i1) in zip(I0, I1)   # each pair (i0, i1) corresponds to a ML lattice site\n",
    "        x0, x1 = X[i0], X[i1]\n",
    "        #  THIS ISNT QUITE CORRECT - IT NEEDS A LOT OF TRANSFORMATIONS!!!!\n",
    "        U, ∇U = u(x0)            # displacement and displacement gradient\n",
    "        p = W((I + ∇U) * F0)     # construct the shift corresponding to F = Id + ∇U\n",
    "        X[i0], X[i1] = x0 + U, x1 + U + p - p0\n",
    "#         @show norm(p-p0) / vecnorm(∇U)\n",
    "    end \n",
    "    set_positions!(at, X)\n",
    "    return at \n",
    "end \n",
    "\n"
   ]
  },
  {
   "cell_type": "code",
   "execution_count": 111,
   "metadata": {
    "collapsed": false
   },
   "outputs": [
    {
     "data": {
      "image/png": "[encoded data removed]",
      "text/plain": [
       "PyPlot.Figure(PyObject <matplotlib.figure.Figure object at 0x32da86e10>)"
      ]
     },
     "metadata": {},
     "output_type": "display_data"
    },
    {
     "name": "stdout",
     "output_type": "stream",
     "text": [
      "p0 = W(F0) = [1.3575,1.3575,1.3575]\n"
     ]
    },
    {
     "data": {
      "text/plain": [
       "2-element Array{Any,1}:\n",
       " PyObject <matplotlib.lines.Line2D object at 0x326adf0d0>\n",
       " PyObject <matplotlib.lines.Line2D object at 0x32e0735d0>"
      ]
     },
     "execution_count": 111,
     "metadata": {},
     "output_type": "execute_result"
    }
   ],
   "source": [
    "x0 = JVecF([-2.0, -2.0, 0.0])\n",
    "u = x -> 0.4 * [(x-x0)[1:2]/norm((x-x0)[1:2]); 0.0]\n",
    "∇u = x -> ForwardDiff.jacobian(u, x)\n",
    "\n",
    "at, _, _ = si_plane(9)\n",
    "ml_displacement!(at, x -> (u(x), ∇u(x)))\n",
    "\n",
    "figure()\n",
    "subplot(1,2,1)\n",
    "plot_layers(at)\n",
    "\n",
    "subplot(1,2,2)\n",
    "f = norm.(forces(calc, at))\n",
    "r = dists(at, x0)\n",
    "loglog(r, f, \"r.\", markersize=2)\n",
    "loglog(r, 10*r.^(-2), \"g.\", r, 10*r.^(-1), \"b.\", markersize=1)\n"
   ]
  },
  {
   "cell_type": "code",
   "execution_count": 112,
   "metadata": {
    "collapsed": false
   },
   "outputs": [
    {
     "data": {
      "text/plain": [
       "4-element Array{StaticArrays.SVector{3,Float64},1}:\n",
       " [0.0,0.0,0.0]          \n",
       " [1.91979,2.715,1.91979]\n",
       " [0.0,-1.3575,1.91979]  \n",
       " [1.91979,1.3575,0.0]   "
      ]
     },
     "execution_count": 112,
     "metadata": {},
     "output_type": "execute_result"
    }
   ],
   "source": [
    "at, _, _ = MaterialsScienceTools.Dislocations_Silicon_hard_110.fcc_edge_plane(\"Si\")\n",
    "at |> positions"
   ]
  },
  {
   "cell_type": "code",
   "execution_count": 113,
   "metadata": {
    "collapsed": false
   },
   "outputs": [
    {
     "data": {
      "text/plain": [
       "2-element Array{StaticArrays.SVector{3,Float64},1}:\n",
       " [0.0,0.0,0.0]         \n",
       " [1.3575,1.3575,1.3575]"
      ]
     },
     "execution_count": 113,
     "metadata": {},
     "output_type": "execute_result"
    }
   ],
   "source": [
    "bulk(\"Si\") |> positions"
   ]
  },
  {
   "cell_type": "code",
   "execution_count": null,
   "metadata": {
    "collapsed": true
   },
   "outputs": [],
   "source": []
  }
 ],
 "metadata": {
  "anaconda-cloud": {},
  "kernelspec": {
   "display_name": "Julia 0.5.2-pre",
   "language": "julia",
   "name": "julia-0.5"
  },
  "language_info": {
   "file_extension": ".jl",
   "mimetype": "application/julia",
   "name": "julia",
   "version": "0.5.3"
  }
 },
 "nbformat": 4,
 "nbformat_minor": 0
}
