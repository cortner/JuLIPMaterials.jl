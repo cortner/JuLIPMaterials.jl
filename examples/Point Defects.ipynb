{
 "cells": [
  {
   "cell_type": "code",
   "execution_count": 1,
   "metadata": {
    "collapsed": false
   },
   "outputs": [
    {
     "name": "stderr",
     "output_type": "stream",
     "text": [
      "\u001b[1m\u001b[31mWARNING: 'gpaw' Python module cannot be imported: JuLIP.DFT disabled\u001b[0m\n"
     ]
    }
   ],
   "source": [
    "using MaterialsScienceTools\n",
    "using MaterialsScienceTools.PointDefects\n",
    "using JuLIP"
   ]
  },
  {
   "cell_type": "code",
   "execution_count": 2,
   "metadata": {
    "collapsed": false
   },
   "outputs": [
    {
     "data": {
      "text/plain": [
       "JuLIP.ASE.ASEAtoms(PyObject Atoms(symbols='Si101', positions=..., cell=[54.3, 54.3, 54.3], pbc=[False, False, False]),JuLIP.NullCalculator(),JuLIP.NullConstraint(),Dict{Symbol,JuLIP.ASE.TransientData}())"
      ]
     },
     "execution_count": 2,
     "metadata": {},
     "output_type": "execute_result"
    }
   ],
   "source": [
    "at = MaterialsScienceTools.cluster(\"Si\", 7.1, SelfInterstitial)"
   ]
  },
  {
   "cell_type": "code",
   "execution_count": 4,
   "metadata": {
    "collapsed": false
   },
   "outputs": [],
   "source": [
    "# JuLIP.Visualise.show(at)"
   ]
  },
  {
   "cell_type": "code",
   "execution_count": null,
   "metadata": {
    "collapsed": true
   },
   "outputs": [],
   "source": []
  },
  {
   "cell_type": "code",
   "execution_count": null,
   "metadata": {
    "collapsed": true
   },
   "outputs": [],
   "source": []
  }
 ],
 "metadata": {
  "anaconda-cloud": {},
  "kernelspec": {
   "display_name": "Julia 0.5.1-pre",
   "language": "julia",
   "name": "julia-0.5"
  },
  "language_info": {
   "file_extension": ".jl",
   "mimetype": "application/julia",
   "name": "julia",
   "version": "0.5.2"
  }
 },
 "nbformat": 4,
 "nbformat_minor": 1
}
